{
  "nbformat": 4,
  "nbformat_minor": 0,
  "metadata": {
    "colab": {
      "provenance": [],
      "include_colab_link": true
    },
    "kernelspec": {
      "name": "python3",
      "display_name": "Python 3"
    },
    "language_info": {
      "name": "python"
    }
  },
  "cells": [
    {
      "cell_type": "markdown",
      "metadata": {
        "id": "view-in-github",
        "colab_type": "text"
      },
      "source": [
        "<a href=\"https://colab.research.google.com/github/JunaidRaza78/RI-Software-Predictive-models/blob/main/Copy_of_Break_Even_Analysis.ipynb\" target=\"_parent\"><img src=\"https://colab.research.google.com/assets/colab-badge.svg\" alt=\"Open In Colab\"/></a>"
      ]
    },
    {
      "cell_type": "markdown",
      "source": [
        "**Break-Even Analysis** (Determine the level of sales needed to cover fixed and variable costs. Assess the impact of pricing changes on profitability.)"
      ],
      "metadata": {
        "id": "m8ZfsE9YWWnc"
      }
    },
    {
      "cell_type": "code",
      "execution_count": null,
      "metadata": {
        "colab": {
          "base_uri": "https://localhost:8080/",
          "height": 226
        },
        "id": "Wu3IoG_fcryW",
        "outputId": "89b9ba67-a1e3-4219-fc99-7393f560700c"
      },
      "outputs": [
        {
          "output_type": "execute_result",
          "data": {
            "text/plain": [
              "   TransactionID  ProductID  CustomerID  Quantity     Revenue ProductName  \\\n",
              "0              1         77         486         8   29.185840  Product_77   \n",
              "1            101         77         150         7  176.073637  Product_77   \n",
              "2            183         77         270         4  178.122472  Product_77   \n",
              "3            250         77          62         2   75.351960  Product_77   \n",
              "4            517         77         437         5  119.783340  Product_77   \n",
              "\n",
              "   CustomerName  Age  Gender CompanyType  PurchaseAmount  BasePrice  \\\n",
              "0  Customer_486   38    Male     Finance      468.926913  90.374236   \n",
              "1  Customer_150   45    Male        Tech      108.281715  90.374236   \n",
              "2  Customer_270   35    Male        Tech      133.486482  90.374236   \n",
              "3   Customer_62   51    Male      Retail      318.321445  90.374236   \n",
              "4  Customer_437   48  Female     Finance      429.876702  90.374236   \n",
              "\n",
              "   DiscountRate  EmployeeExpenses  OfficeExpenses  MarketingExpenses  \\\n",
              "0      0.295685          3.539627        9.554131           2.194625   \n",
              "1      0.295685          3.539627        9.554131           2.194625   \n",
              "2      0.295685          3.539627        9.554131           2.194625   \n",
              "3      0.295685          3.539627        9.554131           2.194625   \n",
              "4      0.295685          3.539627        9.554131           2.194625   \n",
              "\n",
              "   MaintenanceExpenses     Month  \n",
              "0              2.15969  December  \n",
              "1              2.15969  December  \n",
              "2              2.15969  December  \n",
              "3              2.15969  December  \n",
              "4              2.15969  December  "
            ],
            "text/html": [
              "\n",
              "  <div id=\"df-6a2fcf88-d861-4bd6-a043-ed6beb9de060\" class=\"colab-df-container\">\n",
              "    <div>\n",
              "<style scoped>\n",
              "    .dataframe tbody tr th:only-of-type {\n",
              "        vertical-align: middle;\n",
              "    }\n",
              "\n",
              "    .dataframe tbody tr th {\n",
              "        vertical-align: top;\n",
              "    }\n",
              "\n",
              "    .dataframe thead th {\n",
              "        text-align: right;\n",
              "    }\n",
              "</style>\n",
              "<table border=\"1\" class=\"dataframe\">\n",
              "  <thead>\n",
              "    <tr style=\"text-align: right;\">\n",
              "      <th></th>\n",
              "      <th>TransactionID</th>\n",
              "      <th>ProductID</th>\n",
              "      <th>CustomerID</th>\n",
              "      <th>Quantity</th>\n",
              "      <th>Revenue</th>\n",
              "      <th>ProductName</th>\n",
              "      <th>CustomerName</th>\n",
              "      <th>Age</th>\n",
              "      <th>Gender</th>\n",
              "      <th>CompanyType</th>\n",
              "      <th>PurchaseAmount</th>\n",
              "      <th>BasePrice</th>\n",
              "      <th>DiscountRate</th>\n",
              "      <th>EmployeeExpenses</th>\n",
              "      <th>OfficeExpenses</th>\n",
              "      <th>MarketingExpenses</th>\n",
              "      <th>MaintenanceExpenses</th>\n",
              "      <th>Month</th>\n",
              "    </tr>\n",
              "  </thead>\n",
              "  <tbody>\n",
              "    <tr>\n",
              "      <th>0</th>\n",
              "      <td>1</td>\n",
              "      <td>77</td>\n",
              "      <td>486</td>\n",
              "      <td>8</td>\n",
              "      <td>29.185840</td>\n",
              "      <td>Product_77</td>\n",
              "      <td>Customer_486</td>\n",
              "      <td>38</td>\n",
              "      <td>Male</td>\n",
              "      <td>Finance</td>\n",
              "      <td>468.926913</td>\n",
              "      <td>90.374236</td>\n",
              "      <td>0.295685</td>\n",
              "      <td>3.539627</td>\n",
              "      <td>9.554131</td>\n",
              "      <td>2.194625</td>\n",
              "      <td>2.15969</td>\n",
              "      <td>December</td>\n",
              "    </tr>\n",
              "    <tr>\n",
              "      <th>1</th>\n",
              "      <td>101</td>\n",
              "      <td>77</td>\n",
              "      <td>150</td>\n",
              "      <td>7</td>\n",
              "      <td>176.073637</td>\n",
              "      <td>Product_77</td>\n",
              "      <td>Customer_150</td>\n",
              "      <td>45</td>\n",
              "      <td>Male</td>\n",
              "      <td>Tech</td>\n",
              "      <td>108.281715</td>\n",
              "      <td>90.374236</td>\n",
              "      <td>0.295685</td>\n",
              "      <td>3.539627</td>\n",
              "      <td>9.554131</td>\n",
              "      <td>2.194625</td>\n",
              "      <td>2.15969</td>\n",
              "      <td>December</td>\n",
              "    </tr>\n",
              "    <tr>\n",
              "      <th>2</th>\n",
              "      <td>183</td>\n",
              "      <td>77</td>\n",
              "      <td>270</td>\n",
              "      <td>4</td>\n",
              "      <td>178.122472</td>\n",
              "      <td>Product_77</td>\n",
              "      <td>Customer_270</td>\n",
              "      <td>35</td>\n",
              "      <td>Male</td>\n",
              "      <td>Tech</td>\n",
              "      <td>133.486482</td>\n",
              "      <td>90.374236</td>\n",
              "      <td>0.295685</td>\n",
              "      <td>3.539627</td>\n",
              "      <td>9.554131</td>\n",
              "      <td>2.194625</td>\n",
              "      <td>2.15969</td>\n",
              "      <td>December</td>\n",
              "    </tr>\n",
              "    <tr>\n",
              "      <th>3</th>\n",
              "      <td>250</td>\n",
              "      <td>77</td>\n",
              "      <td>62</td>\n",
              "      <td>2</td>\n",
              "      <td>75.351960</td>\n",
              "      <td>Product_77</td>\n",
              "      <td>Customer_62</td>\n",
              "      <td>51</td>\n",
              "      <td>Male</td>\n",
              "      <td>Retail</td>\n",
              "      <td>318.321445</td>\n",
              "      <td>90.374236</td>\n",
              "      <td>0.295685</td>\n",
              "      <td>3.539627</td>\n",
              "      <td>9.554131</td>\n",
              "      <td>2.194625</td>\n",
              "      <td>2.15969</td>\n",
              "      <td>December</td>\n",
              "    </tr>\n",
              "    <tr>\n",
              "      <th>4</th>\n",
              "      <td>517</td>\n",
              "      <td>77</td>\n",
              "      <td>437</td>\n",
              "      <td>5</td>\n",
              "      <td>119.783340</td>\n",
              "      <td>Product_77</td>\n",
              "      <td>Customer_437</td>\n",
              "      <td>48</td>\n",
              "      <td>Female</td>\n",
              "      <td>Finance</td>\n",
              "      <td>429.876702</td>\n",
              "      <td>90.374236</td>\n",
              "      <td>0.295685</td>\n",
              "      <td>3.539627</td>\n",
              "      <td>9.554131</td>\n",
              "      <td>2.194625</td>\n",
              "      <td>2.15969</td>\n",
              "      <td>December</td>\n",
              "    </tr>\n",
              "  </tbody>\n",
              "</table>\n",
              "</div>\n",
              "    <div class=\"colab-df-buttons\">\n",
              "\n",
              "  <div class=\"colab-df-container\">\n",
              "    <button class=\"colab-df-convert\" onclick=\"convertToInteractive('df-6a2fcf88-d861-4bd6-a043-ed6beb9de060')\"\n",
              "            title=\"Convert this dataframe to an interactive table.\"\n",
              "            style=\"display:none;\">\n",
              "\n",
              "  <svg xmlns=\"http://www.w3.org/2000/svg\" height=\"24px\" viewBox=\"0 -960 960 960\">\n",
              "    <path d=\"M120-120v-720h720v720H120Zm60-500h600v-160H180v160Zm220 220h160v-160H400v160Zm0 220h160v-160H400v160ZM180-400h160v-160H180v160Zm440 0h160v-160H620v160ZM180-180h160v-160H180v160Zm440 0h160v-160H620v160Z\"/>\n",
              "  </svg>\n",
              "    </button>\n",
              "\n",
              "  <style>\n",
              "    .colab-df-container {\n",
              "      display:flex;\n",
              "      gap: 12px;\n",
              "    }\n",
              "\n",
              "    .colab-df-convert {\n",
              "      background-color: #E8F0FE;\n",
              "      border: none;\n",
              "      border-radius: 50%;\n",
              "      cursor: pointer;\n",
              "      display: none;\n",
              "      fill: #1967D2;\n",
              "      height: 32px;\n",
              "      padding: 0 0 0 0;\n",
              "      width: 32px;\n",
              "    }\n",
              "\n",
              "    .colab-df-convert:hover {\n",
              "      background-color: #E2EBFA;\n",
              "      box-shadow: 0px 1px 2px rgba(60, 64, 67, 0.3), 0px 1px 3px 1px rgba(60, 64, 67, 0.15);\n",
              "      fill: #174EA6;\n",
              "    }\n",
              "\n",
              "    .colab-df-buttons div {\n",
              "      margin-bottom: 4px;\n",
              "    }\n",
              "\n",
              "    [theme=dark] .colab-df-convert {\n",
              "      background-color: #3B4455;\n",
              "      fill: #D2E3FC;\n",
              "    }\n",
              "\n",
              "    [theme=dark] .colab-df-convert:hover {\n",
              "      background-color: #434B5C;\n",
              "      box-shadow: 0px 1px 3px 1px rgba(0, 0, 0, 0.15);\n",
              "      filter: drop-shadow(0px 1px 2px rgba(0, 0, 0, 0.3));\n",
              "      fill: #FFFFFF;\n",
              "    }\n",
              "  </style>\n",
              "\n",
              "    <script>\n",
              "      const buttonEl =\n",
              "        document.querySelector('#df-6a2fcf88-d861-4bd6-a043-ed6beb9de060 button.colab-df-convert');\n",
              "      buttonEl.style.display =\n",
              "        google.colab.kernel.accessAllowed ? 'block' : 'none';\n",
              "\n",
              "      async function convertToInteractive(key) {\n",
              "        const element = document.querySelector('#df-6a2fcf88-d861-4bd6-a043-ed6beb9de060');\n",
              "        const dataTable =\n",
              "          await google.colab.kernel.invokeFunction('convertToInteractive',\n",
              "                                                    [key], {});\n",
              "        if (!dataTable) return;\n",
              "\n",
              "        const docLinkHtml = 'Like what you see? Visit the ' +\n",
              "          '<a target=\"_blank\" href=https://colab.research.google.com/notebooks/data_table.ipynb>data table notebook</a>'\n",
              "          + ' to learn more about interactive tables.';\n",
              "        element.innerHTML = '';\n",
              "        dataTable['output_type'] = 'display_data';\n",
              "        await google.colab.output.renderOutput(dataTable, element);\n",
              "        const docLink = document.createElement('div');\n",
              "        docLink.innerHTML = docLinkHtml;\n",
              "        element.appendChild(docLink);\n",
              "      }\n",
              "    </script>\n",
              "  </div>\n",
              "\n",
              "\n",
              "<div id=\"df-c6f7fc07-6a57-4fde-b5c5-ca3569948cde\">\n",
              "  <button class=\"colab-df-quickchart\" onclick=\"quickchart('df-c6f7fc07-6a57-4fde-b5c5-ca3569948cde')\"\n",
              "            title=\"Suggest charts\"\n",
              "            style=\"display:none;\">\n",
              "\n",
              "<svg xmlns=\"http://www.w3.org/2000/svg\" height=\"24px\"viewBox=\"0 0 24 24\"\n",
              "     width=\"24px\">\n",
              "    <g>\n",
              "        <path d=\"M19 3H5c-1.1 0-2 .9-2 2v14c0 1.1.9 2 2 2h14c1.1 0 2-.9 2-2V5c0-1.1-.9-2-2-2zM9 17H7v-7h2v7zm4 0h-2V7h2v10zm4 0h-2v-4h2v4z\"/>\n",
              "    </g>\n",
              "</svg>\n",
              "  </button>\n",
              "\n",
              "<style>\n",
              "  .colab-df-quickchart {\n",
              "      --bg-color: #E8F0FE;\n",
              "      --fill-color: #1967D2;\n",
              "      --hover-bg-color: #E2EBFA;\n",
              "      --hover-fill-color: #174EA6;\n",
              "      --disabled-fill-color: #AAA;\n",
              "      --disabled-bg-color: #DDD;\n",
              "  }\n",
              "\n",
              "  [theme=dark] .colab-df-quickchart {\n",
              "      --bg-color: #3B4455;\n",
              "      --fill-color: #D2E3FC;\n",
              "      --hover-bg-color: #434B5C;\n",
              "      --hover-fill-color: #FFFFFF;\n",
              "      --disabled-bg-color: #3B4455;\n",
              "      --disabled-fill-color: #666;\n",
              "  }\n",
              "\n",
              "  .colab-df-quickchart {\n",
              "    background-color: var(--bg-color);\n",
              "    border: none;\n",
              "    border-radius: 50%;\n",
              "    cursor: pointer;\n",
              "    display: none;\n",
              "    fill: var(--fill-color);\n",
              "    height: 32px;\n",
              "    padding: 0;\n",
              "    width: 32px;\n",
              "  }\n",
              "\n",
              "  .colab-df-quickchart:hover {\n",
              "    background-color: var(--hover-bg-color);\n",
              "    box-shadow: 0 1px 2px rgba(60, 64, 67, 0.3), 0 1px 3px 1px rgba(60, 64, 67, 0.15);\n",
              "    fill: var(--button-hover-fill-color);\n",
              "  }\n",
              "\n",
              "  .colab-df-quickchart-complete:disabled,\n",
              "  .colab-df-quickchart-complete:disabled:hover {\n",
              "    background-color: var(--disabled-bg-color);\n",
              "    fill: var(--disabled-fill-color);\n",
              "    box-shadow: none;\n",
              "  }\n",
              "\n",
              "  .colab-df-spinner {\n",
              "    border: 2px solid var(--fill-color);\n",
              "    border-color: transparent;\n",
              "    border-bottom-color: var(--fill-color);\n",
              "    animation:\n",
              "      spin 1s steps(1) infinite;\n",
              "  }\n",
              "\n",
              "  @keyframes spin {\n",
              "    0% {\n",
              "      border-color: transparent;\n",
              "      border-bottom-color: var(--fill-color);\n",
              "      border-left-color: var(--fill-color);\n",
              "    }\n",
              "    20% {\n",
              "      border-color: transparent;\n",
              "      border-left-color: var(--fill-color);\n",
              "      border-top-color: var(--fill-color);\n",
              "    }\n",
              "    30% {\n",
              "      border-color: transparent;\n",
              "      border-left-color: var(--fill-color);\n",
              "      border-top-color: var(--fill-color);\n",
              "      border-right-color: var(--fill-color);\n",
              "    }\n",
              "    40% {\n",
              "      border-color: transparent;\n",
              "      border-right-color: var(--fill-color);\n",
              "      border-top-color: var(--fill-color);\n",
              "    }\n",
              "    60% {\n",
              "      border-color: transparent;\n",
              "      border-right-color: var(--fill-color);\n",
              "    }\n",
              "    80% {\n",
              "      border-color: transparent;\n",
              "      border-right-color: var(--fill-color);\n",
              "      border-bottom-color: var(--fill-color);\n",
              "    }\n",
              "    90% {\n",
              "      border-color: transparent;\n",
              "      border-bottom-color: var(--fill-color);\n",
              "    }\n",
              "  }\n",
              "</style>\n",
              "\n",
              "  <script>\n",
              "    async function quickchart(key) {\n",
              "      const quickchartButtonEl =\n",
              "        document.querySelector('#' + key + ' button');\n",
              "      quickchartButtonEl.disabled = true;  // To prevent multiple clicks.\n",
              "      quickchartButtonEl.classList.add('colab-df-spinner');\n",
              "      try {\n",
              "        const charts = await google.colab.kernel.invokeFunction(\n",
              "            'suggestCharts', [key], {});\n",
              "      } catch (error) {\n",
              "        console.error('Error during call to suggestCharts:', error);\n",
              "      }\n",
              "      quickchartButtonEl.classList.remove('colab-df-spinner');\n",
              "      quickchartButtonEl.classList.add('colab-df-quickchart-complete');\n",
              "    }\n",
              "    (() => {\n",
              "      let quickchartButtonEl =\n",
              "        document.querySelector('#df-c6f7fc07-6a57-4fde-b5c5-ca3569948cde button');\n",
              "      quickchartButtonEl.style.display =\n",
              "        google.colab.kernel.accessAllowed ? 'block' : 'none';\n",
              "    })();\n",
              "  </script>\n",
              "</div>\n",
              "\n",
              "    </div>\n",
              "  </div>\n"
            ]
          },
          "metadata": {},
          "execution_count": 1
        }
      ],
      "source": [
        "import pandas as pd\n",
        "import numpy as np\n",
        "\n",
        "# Set a random seed for reproducibility\n",
        "np.random.seed(42)\n",
        "\n",
        "# Create a mock dataset for products\n",
        "products_data = {\n",
        "    'ProductID': np.arange(1, 101),\n",
        "    'ProductName': [f'Product_{i}' for i in range(1, 101)]\n",
        "}\n",
        "\n",
        "products_df = pd.DataFrame(products_data)\n",
        "\n",
        "# Create a mock dataset for customers\n",
        "customers_data = {\n",
        "    'CustomerID': np.arange(1, 501),\n",
        "    'CustomerName': [f'Customer_{i}' for i in range(1, 501)],\n",
        "    'Age': np.random.randint(18, 60, size=500),\n",
        "    'Gender': np.random.choice(['Male', 'Female'], size=500),\n",
        "    'CompanyType': np.random.choice(['Tech', 'Retail', 'Finance'], size=500),\n",
        "    'PurchaseAmount': np.random.uniform(50, 500, size=500),\n",
        "}\n",
        "\n",
        "customers_df = pd.DataFrame(customers_data)\n",
        "\n",
        "\n",
        "# Create a mock dataset for sales\n",
        "sales_data = {\n",
        "    'TransactionID': np.arange(1, 1001),\n",
        "    'ProductID': np.random.choice(np.arange(1, 101), size=1000),\n",
        "    'CustomerID': np.random.choice(np.arange(1, 501), size=1000),\n",
        "    'Quantity': np.random.randint(1, 10, size=1000),\n",
        "    'Revenue': np.random.uniform(10, 200, size=1000),\n",
        "}\n",
        "\n",
        "sales_df = pd.DataFrame(sales_data)\n",
        "\n",
        "# Create a mock dataset for pricing strategies\n",
        "pricing_data = {\n",
        "    'ProductID': np.arange(1, 101),\n",
        "    'BasePrice': np.random.uniform(50, 200, size=100),\n",
        "    'DiscountRate': np.random.uniform(0.05, 0.3, size=100),\n",
        "}\n",
        "\n",
        "pricing_df = pd.DataFrame(pricing_data)\n",
        "\n",
        "# Create a mock dataset for expenses\n",
        "expenses_data = {\n",
        "    'ProductID': np.arange(1, 101),\n",
        "    'EmployeeExpenses': np.random.uniform(1, 5, size=100),\n",
        "    'OfficeExpenses': np.random.uniform(5, 10, size=100),\n",
        "    'MarketingExpenses': np.random.uniform(1, 3, size=100),\n",
        "    'MaintenanceExpenses': np.random.uniform(2, 6, size=100),\n",
        "    'Month': pd.to_datetime(np.random.randint(1, 13, size=100),\n",
        "                            format='%m').strftime('%B')  # Generate random integers from 1 to 12 and convert to month names\n",
        "}\n",
        "\n",
        "expenses_df = pd.DataFrame(expenses_data)\n",
        "\n",
        "# Display the first few rows of the DataFrame\n",
        "expenses_df.head()\n",
        "\n",
        "\n",
        "# Merge datasets\n",
        "df = pd.merge(sales_df, products_df, on='ProductID')\n",
        "df = pd.merge(df, customers_df, on='CustomerID')\n",
        "df = pd.merge(df, pricing_df, on='ProductID')\n",
        "df = pd.merge(df, expenses_df, on='ProductID')\n",
        "\n",
        "# Convert 'TransactionID' to datetime and extract 'Month'\n",
        "#df['TransactionID'] = pd.to_datetime(df['TransactionID'], format='%Y%m%d')\n",
        "#df['Month'] = df['TransactionID'].dt.month\n",
        "\n",
        "\n",
        "# Display the first few rows of the merged dataset\n",
        "df.head()\n",
        "\n"
      ]
    },
    {
      "cell_type": "code",
      "source": [
        "import pandas as pd\n",
        "\n",
        "\n",
        "# Columns representing fixed costs\n",
        "fixed_costs_columns = ['EmployeeExpenses', 'OfficeExpenses', 'MarketingExpenses', 'MaintenanceExpenses']\n",
        "\n",
        "# Calculate total fixed costs for each transaction\n",
        "df['TotalFixedCosts'] = df[fixed_costs_columns].sum(axis=1)\n",
        "\n",
        "# Display the first few rows of the DataFrame with the new TotalFixedCosts column\n",
        "print(df[['TransactionID', 'TotalFixedCosts']].head())\n",
        "\n",
        "\n"
      ],
      "metadata": {
        "colab": {
          "base_uri": "https://localhost:8080/"
        },
        "id": "L8rkW_ikfL-4",
        "outputId": "865d5436-bebd-4a53-d308-2a2aa7265119"
      },
      "execution_count": null,
      "outputs": [
        {
          "output_type": "stream",
          "name": "stdout",
          "text": [
            "   TransactionID  TotalFixedCosts\n",
            "0              1        17.448073\n",
            "1            101        17.448073\n",
            "2            183        17.448073\n",
            "3            250        17.448073\n",
            "4            517        17.448073\n"
          ]
        }
      ]
    },
    {
      "cell_type": "code",
      "source": [
        "import pandas as pd\n",
        "\n",
        "\n",
        "# Columns representing variable costs\n",
        "variable_costs_columns = ['EmployeeExpenses', 'OfficeExpenses',\n",
        "                          'MarketingExpenses', 'MaintenanceExpenses']\n",
        "\n",
        "# Calculate total variable costs for each transaction\n",
        "df['TotalVariableCosts'] = df[variable_costs_columns].sum(axis=1)\n",
        "\n",
        "# Display the first few rows of the DataFrame with the new TotalVariableCosts column\n",
        "print(df[['TransactionID', 'TotalVariableCosts']].head())\n"
      ],
      "metadata": {
        "colab": {
          "base_uri": "https://localhost:8080/"
        },
        "id": "KgYZImdFgGlH",
        "outputId": "0ac04363-4214-43ac-f78f-ffe803979ec2"
      },
      "execution_count": null,
      "outputs": [
        {
          "output_type": "stream",
          "name": "stdout",
          "text": [
            "   TransactionID  TotalVariableCosts\n",
            "0              1           17.448073\n",
            "1            101           17.448073\n",
            "2            183           17.448073\n",
            "3            250           17.448073\n",
            "4            517           17.448073\n"
          ]
        }
      ]
    },
    {
      "cell_type": "code",
      "source": [
        "# Calculate the cumulative sum of revenue\n",
        "df['CumulativeSales'] = df['Revenue'].cumsum()\n",
        "\n",
        "# Determine the level of sales needed to cover variable costs\n",
        "sales_to_cover_variable_costs = df.loc[df['CumulativeSales'] >= df[\n",
        "    'TotalVariableCosts'], 'CumulativeSales'].iloc[0]\n",
        "\n",
        "print(f\"The level of sales needed to cover variable costs is: ${sales_to_cover_variable_costs:.2f}\")\n"
      ],
      "metadata": {
        "colab": {
          "base_uri": "https://localhost:8080/"
        },
        "id": "BqRK5JuqigjT",
        "outputId": "7cf283cb-7e80-4d71-e679-bfd6cba3479b"
      },
      "execution_count": null,
      "outputs": [
        {
          "output_type": "stream",
          "name": "stdout",
          "text": [
            "The level of sales needed to cover variable costs is: $29.19\n"
          ]
        }
      ]
    },
    {
      "cell_type": "code",
      "source": [
        "# Calculate total costs (fixed costs + variable costs)\n",
        "df['TotalCosts'] = df['TotalFixedCosts'] + df['TotalVariableCosts']\n",
        "\n",
        "# Calculate profit as the difference between revenue and total costs\n",
        "df['Profit'] = df['Revenue'] - df['TotalCosts']\n",
        "\n",
        "# Calculate profit margin as the ratio of profit to revenue\n",
        "df['ProfitMargin'] = (df['Profit'] / df['Revenue']) * 100\n",
        "\n",
        "# Display the first few rows of the DataFrame with the new columns\n",
        "print(df[['ProductName', 'Profit', 'ProfitMargin']].head())\n"
      ],
      "metadata": {
        "colab": {
          "base_uri": "https://localhost:8080/"
        },
        "id": "KnEOkV60jE_c",
        "outputId": "64e663aa-f5f9-48f6-c977-b0c0666d3b82"
      },
      "execution_count": null,
      "outputs": [
        {
          "output_type": "stream",
          "name": "stdout",
          "text": [
            "  ProductName      Profit  ProfitMargin\n",
            "0  Product_77   -5.710305    -19.565328\n",
            "1  Product_77  141.177491     80.180937\n",
            "2  Product_77  143.226327     80.408903\n",
            "3  Product_77   40.455815     53.689134\n",
            "4  Product_77   84.887194     70.867279\n"
          ]
        }
      ]
    },
    {
      "cell_type": "code",
      "source": [
        "# Assuming 'df' is your DataFrame\n",
        "data = {\n",
        "    'ProductName': df['ProductName'].tolist(),\n",
        "    'Profit': (df['Revenue'] - (df['TotalFixedCosts'] + df['TotalVariableCosts'])).tolist(),\n",
        "    'ProfitMargin': ((df['Revenue'] - (df['TotalFixedCosts'] + df['TotalVariableCosts'])) / df['Revenue'] * 100).tolist()\n",
        "}\n",
        "\n",
        "# Display the first few rows of the dictionary\n",
        "print({key: data[key][:5] for key in data})\n"
      ],
      "metadata": {
        "colab": {
          "base_uri": "https://localhost:8080/"
        },
        "id": "XIyCoaQd5Gzs",
        "outputId": "d3167d5a-b28a-4d62-e752-29de5c074e3a"
      },
      "execution_count": null,
      "outputs": [
        {
          "output_type": "stream",
          "name": "stdout",
          "text": [
            "{'ProductName': ['Product_77', 'Product_77', 'Product_77', 'Product_77', 'Product_77'], 'Profit': [-5.710305398546705, 141.17749123406387, 143.2263266683195, 40.45581475203895, 84.88719385378478], 'ProfitMargin': [-19.565328052081743, 80.18093662244623, 80.40890336231446, 53.689133650414334, 70.86727935146338]}\n"
          ]
        }
      ]
    },
    {
      "cell_type": "code",
      "source": [
        "performance_dict = {}\n",
        "\n",
        "for ProductName, data in df.groupby('ProductName'):\n",
        "      key = f'Product {ProductName} Profit Margin'\n",
        "      performance_dict[key] = []\n",
        "\n",
        "      for idx, row in data.iterrows():\n",
        "          performance_dict[key].append({\n",
        "              'label': row['Month'],\n",
        "              'value': row['ProfitMargin'],\n",
        "          })\n",
        "print(performance_dict)"
      ],
      "metadata": {
        "colab": {
          "base_uri": "https://localhost:8080/"
        },
        "id": "qovwCSZyBosw",
        "outputId": "f63e6e38-c860-45b3-ebd0-44abdf6cf5bf"
      },
      "execution_count": null,
      "outputs": [
        {
          "output_type": "stream",
          "name": "stdout",
          "text": [
            "{'Product Product_1 Profit Margin': [{'label': 'August', 'value': 62.31039376469606}, {'label': 'August', 'value': 75.16192590255474}, {'label': 'August', 'value': 55.41223751305176}, {'label': 'August', 'value': 72.93295588670816}, {'label': 'August', 'value': 49.24420043765777}, {'label': 'August', 'value': -31.083522076324844}], 'Product Product_10 Profit Margin': [{'label': 'August', 'value': 43.61696569025351}, {'label': 'August', 'value': 69.10455554510384}, {'label': 'August', 'value': 45.10639306802939}, {'label': 'August', 'value': 68.65613417131631}, {'label': 'August', 'value': -118.76065330711754}, {'label': 'August', 'value': 63.8735888531489}, {'label': 'August', 'value': 70.72535659897851}, {'label': 'August', 'value': 73.02253907209231}, {'label': 'August', 'value': -108.1421553175519}, {'label': 'August', 'value': 41.70193001942586}, {'label': 'August', 'value': -28.200817750490547}, {'label': 'August', 'value': 77.40949321128345}, {'label': 'August', 'value': 48.999337188678396}, {'label': 'August', 'value': 77.04519826998619}], 'Product Product_100 Profit Margin': [{'label': 'August', 'value': 56.811572868243246}, {'label': 'August', 'value': 80.23315427429007}, {'label': 'August', 'value': 10.995960134135483}, {'label': 'August', 'value': -23.921053015175456}, {'label': 'August', 'value': 75.11321608700585}, {'label': 'August', 'value': 66.74730032838917}, {'label': 'August', 'value': 76.5483064550852}, {'label': 'August', 'value': 77.3081127169755}], 'Product Product_11 Profit Margin': [{'label': 'November', 'value': 75.83250688949488}, {'label': 'November', 'value': 65.50355869018772}, {'label': 'November', 'value': 73.3385189737876}, {'label': 'November', 'value': 82.31955982168573}, {'label': 'November', 'value': 82.02535360398674}, {'label': 'November', 'value': -156.70651322233192}, {'label': 'November', 'value': 22.255752124720537}], 'Product Product_12 Profit Margin': [{'label': 'October', 'value': -1.1881443753028478}, {'label': 'October', 'value': 70.07445553583968}, {'label': 'October', 'value': 66.95988743089602}, {'label': 'October', 'value': 70.60839742988408}, {'label': 'October', 'value': 55.34006612128704}, {'label': 'October', 'value': 84.35678539798339}, {'label': 'October', 'value': -150.54513824527888}, {'label': 'October', 'value': 65.44488963474731}, {'label': 'October', 'value': 84.13033513621137}, {'label': 'October', 'value': 79.98767419848136}, {'label': 'October', 'value': 54.383722975578685}], 'Product Product_13 Profit Margin': [{'label': 'October', 'value': 75.33675613373974}, {'label': 'October', 'value': 63.70954230181316}, {'label': 'October', 'value': 87.36107943874212}, {'label': 'October', 'value': 71.64292824885244}, {'label': 'October', 'value': 45.74757491761364}, {'label': 'October', 'value': 68.36757909598577}, {'label': 'October', 'value': 84.16021189380083}, {'label': 'October', 'value': 85.57436528967322}, {'label': 'October', 'value': 83.23674162149935}, {'label': 'October', 'value': 38.14607088878794}, {'label': 'October', 'value': 82.11981981658208}, {'label': 'October', 'value': 18.14483095752625}, {'label': 'October', 'value': -63.107560452040204}], 'Product Product_14 Profit Margin': [{'label': 'December', 'value': 75.10512362194171}, {'label': 'December', 'value': 23.79084200604711}, {'label': 'December', 'value': -72.02414820444338}, {'label': 'December', 'value': -7.289154368034885}, {'label': 'December', 'value': 81.1073241769195}, {'label': 'December', 'value': 81.48208897431255}, {'label': 'December', 'value': 71.59051335029662}, {'label': 'December', 'value': 13.433774815772178}, {'label': 'December', 'value': 69.4636775993154}], 'Product Product_15 Profit Margin': [{'label': 'February', 'value': 81.8561600487873}, {'label': 'February', 'value': 65.74619508279343}, {'label': 'February', 'value': 22.656779366005473}, {'label': 'February', 'value': 81.43492405938258}, {'label': 'February', 'value': 71.13525649236195}, {'label': 'February', 'value': 53.4500753255344}, {'label': 'February', 'value': 63.68077123840242}, {'label': 'February', 'value': 69.60137312517688}, {'label': 'February', 'value': 80.897643945566}, {'label': 'February', 'value': 79.0014347275145}, {'label': 'February', 'value': -98.34014138965418}, {'label': 'February', 'value': 74.3178919368489}, {'label': 'February', 'value': 78.49559700251037}, {'label': 'February', 'value': 7.050603801246234}, {'label': 'February', 'value': 80.2290835248083}, {'label': 'February', 'value': 58.98625280844061}], 'Product Product_16 Profit Margin': [{'label': 'November', 'value': 66.09436167457213}, {'label': 'November', 'value': 84.41860885641678}, {'label': 'November', 'value': 76.51462401999754}, {'label': 'November', 'value': 75.04037033996846}, {'label': 'November', 'value': -97.92445845284041}, {'label': 'November', 'value': 81.58638653505014}, {'label': 'November', 'value': 18.767810871245853}, {'label': 'November', 'value': 82.25600298957997}, {'label': 'November', 'value': 58.01630756797527}, {'label': 'November', 'value': 81.33846381169519}, {'label': 'November', 'value': 84.58215308476326}, {'label': 'November', 'value': 42.551930344175}], 'Product Product_17 Profit Margin': [{'label': 'December', 'value': -27.84706916767643}, {'label': 'December', 'value': 79.88044825141523}, {'label': 'December', 'value': -74.64204269525966}, {'label': 'December', 'value': 78.24619276937108}, {'label': 'December', 'value': 8.467563003613968}, {'label': 'December', 'value': 81.21139064823498}, {'label': 'December', 'value': 40.38274491451257}, {'label': 'December', 'value': 78.82479999917733}, {'label': 'December', 'value': -71.99735486300557}], 'Product Product_18 Profit Margin': [{'label': 'December', 'value': 68.22460416339774}, {'label': 'December', 'value': 66.17328073887016}, {'label': 'December', 'value': 50.289588614366565}, {'label': 'December', 'value': 77.24471463732363}, {'label': 'December', 'value': 70.41810241357943}, {'label': 'December', 'value': 33.88936443519866}, {'label': 'December', 'value': 51.74863481594008}], 'Product Product_19 Profit Margin': [{'label': 'February', 'value': -11.816289935398881}, {'label': 'February', 'value': 62.70506712776689}, {'label': 'February', 'value': 70.1918953062701}, {'label': 'February', 'value': 45.726105555918295}, {'label': 'February', 'value': 77.14344652993698}, {'label': 'February', 'value': 81.41616833369764}, {'label': 'February', 'value': -23.013292799273994}, {'label': 'February', 'value': -60.139954208570465}, {'label': 'February', 'value': 74.16334609845833}, {'label': 'February', 'value': -60.96884766261413}, {'label': 'February', 'value': 73.10338563541933}, {'label': 'February', 'value': 55.296333187022114}, {'label': 'February', 'value': 70.38336117629436}], 'Product Product_2 Profit Margin': [{'label': 'February', 'value': 36.71477928910994}, {'label': 'February', 'value': 62.07992435271766}, {'label': 'February', 'value': 61.20218487236745}, {'label': 'February', 'value': 48.2854596995826}, {'label': 'February', 'value': 54.25223610790032}, {'label': 'February', 'value': 79.85522062027613}, {'label': 'February', 'value': -0.1924084921148176}, {'label': 'February', 'value': 56.21042430662602}, {'label': 'February', 'value': 55.056361213417794}, {'label': 'February', 'value': 80.13255313762292}, {'label': 'February', 'value': 69.88640578454243}, {'label': 'February', 'value': 72.57422230326476}, {'label': 'February', 'value': -58.12957691687828}, {'label': 'February', 'value': 77.88368944624739}, {'label': 'February', 'value': 57.06215953570296}], 'Product Product_20 Profit Margin': [{'label': 'May', 'value': 53.85156178266093}, {'label': 'May', 'value': 75.40789440437243}, {'label': 'May', 'value': 61.80106987310712}, {'label': 'May', 'value': 84.77881333697597}, {'label': 'May', 'value': 77.5375509870731}, {'label': 'May', 'value': 70.92023430704764}, {'label': 'May', 'value': 85.74291257649716}, {'label': 'May', 'value': -28.331752229138086}, {'label': 'May', 'value': 66.97251222594663}], 'Product Product_21 Profit Margin': [{'label': 'June', 'value': 50.82672081197608}, {'label': 'June', 'value': 61.65978083004598}, {'label': 'June', 'value': 60.26066237881573}, {'label': 'June', 'value': 21.827568284325555}, {'label': 'June', 'value': 35.656601906424534}, {'label': 'June', 'value': 77.80959936757739}, {'label': 'June', 'value': 82.51653993325914}, {'label': 'June', 'value': 72.37259967525054}, {'label': 'June', 'value': 69.76096687955842}, {'label': 'June', 'value': 62.35892142901898}, {'label': 'June', 'value': -11.99107452934388}, {'label': 'June', 'value': 75.56159178410985}, {'label': 'June', 'value': 82.30986425205839}, {'label': 'June', 'value': 82.38528351927047}, {'label': 'June', 'value': -173.07840640656272}, {'label': 'June', 'value': 51.37633721018942}, {'label': 'June', 'value': 65.2688161663903}, {'label': 'June', 'value': 79.65299994804379}, {'label': 'June', 'value': 81.5895495796407}, {'label': 'June', 'value': 76.46140801521338}, {'label': 'June', 'value': 81.67792491227172}, {'label': 'June', 'value': 35.4619420188412}, {'label': 'June', 'value': 74.56224972115018}, {'label': 'June', 'value': 78.34146324996571}, {'label': 'June', 'value': 74.82828834156366}, {'label': 'June', 'value': 61.884382662997396}, {'label': 'June', 'value': -72.3047663157959}], 'Product Product_22 Profit Margin': [{'label': 'December', 'value': 16.176609173756848}, {'label': 'December', 'value': 45.33355165606305}, {'label': 'December', 'value': 55.034720890157296}, {'label': 'December', 'value': 67.74267894855015}, {'label': 'December', 'value': 65.38460381444548}, {'label': 'December', 'value': 63.81095610932428}, {'label': 'December', 'value': 82.17147188364785}, {'label': 'December', 'value': 81.20800245416618}, {'label': 'December', 'value': 82.25143018025389}, {'label': 'December', 'value': 60.13010887075095}, {'label': 'December', 'value': -13.970720022785319}], 'Product Product_23 Profit Margin': [{'label': 'February', 'value': -35.8385591026023}, {'label': 'February', 'value': 29.061576747465846}, {'label': 'February', 'value': 69.97287118554435}, {'label': 'February', 'value': 42.89636427957922}, {'label': 'February', 'value': 41.67220113265044}, {'label': 'February', 'value': 57.24285970359762}, {'label': 'February', 'value': 49.843259249053276}, {'label': 'February', 'value': 56.71441462910727}, {'label': 'February', 'value': 81.98416617087524}, {'label': 'February', 'value': 80.44965498210841}], 'Product Product_24 Profit Margin': [{'label': 'May', 'value': 78.5059319356412}, {'label': 'May', 'value': -84.522824065169}, {'label': 'May', 'value': 61.185062167649804}, {'label': 'May', 'value': 60.49496523306913}, {'label': 'May', 'value': 69.13545430284242}, {'label': 'May', 'value': 78.13769954528952}, {'label': 'May', 'value': -11.07402971477043}, {'label': 'May', 'value': 69.78950001490044}, {'label': 'May', 'value': 76.02285704051742}, {'label': 'May', 'value': 40.58994722116463}, {'label': 'May', 'value': 72.02970853418861}, {'label': 'May', 'value': -7.671989854425103}, {'label': 'May', 'value': 60.18636256025276}], 'Product Product_25 Profit Margin': [{'label': 'July', 'value': 81.93114496726473}, {'label': 'July', 'value': 74.37537675777135}, {'label': 'July', 'value': 79.23940655622313}, {'label': 'July', 'value': 65.23412017722274}, {'label': 'July', 'value': 78.0819218397534}, {'label': 'July', 'value': 84.70379302037558}, {'label': 'July', 'value': 80.5504485410632}, {'label': 'July', 'value': 57.07884294409074}, {'label': 'July', 'value': 70.58689773140243}, {'label': 'July', 'value': 73.86073251251679}, {'label': 'July', 'value': 66.64794695918256}], 'Product Product_26 Profit Margin': [{'label': 'October', 'value': 82.60982477690577}, {'label': 'October', 'value': 65.98829406090805}, {'label': 'October', 'value': 26.371349147208957}, {'label': 'October', 'value': 14.467488753929182}, {'label': 'October', 'value': 80.05645998762277}, {'label': 'October', 'value': -88.68172111799666}, {'label': 'October', 'value': 67.60539795525385}, {'label': 'October', 'value': 30.2802052591316}, {'label': 'October', 'value': -34.00050940298484}, {'label': 'October', 'value': 78.8477043572212}, {'label': 'October', 'value': 81.6358090057619}], 'Product Product_27 Profit Margin': [{'label': 'October', 'value': 83.34568506990202}, {'label': 'October', 'value': 34.39747607092974}, {'label': 'October', 'value': 57.50571217725921}, {'label': 'October', 'value': 59.29151824523281}, {'label': 'October', 'value': 7.545649167985847}, {'label': 'October', 'value': 77.7873685196885}, {'label': 'October', 'value': 72.38605959665063}], 'Product Product_28 Profit Margin': [{'label': 'August', 'value': 48.83596438184024}, {'label': 'August', 'value': 73.73568770893883}, {'label': 'August', 'value': 49.306745053281794}, {'label': 'August', 'value': 75.42632523844375}, {'label': 'August', 'value': 57.76766670242232}, {'label': 'August', 'value': 81.17231297311132}, {'label': 'August', 'value': -17.430286297537712}], 'Product Product_29 Profit Margin': [{'label': 'December', 'value': 71.07556784879358}, {'label': 'December', 'value': 83.79702708357146}, {'label': 'December', 'value': 77.52643990309996}, {'label': 'December', 'value': 80.18428318915885}, {'label': 'December', 'value': 76.0106801286544}, {'label': 'December', 'value': 79.75792031986622}], 'Product Product_3 Profit Margin': [{'label': 'September', 'value': 23.668327432063773}, {'label': 'September', 'value': -0.7457249045524139}, {'label': 'September', 'value': 81.83117205423517}, {'label': 'September', 'value': 79.18147144379509}, {'label': 'September', 'value': 85.6953178971952}, {'label': 'September', 'value': -73.92819422732913}, {'label': 'September', 'value': 85.96646307219908}, {'label': 'September', 'value': 11.388895561361856}, {'label': 'September', 'value': 86.81846598866588}, {'label': 'September', 'value': 87.1866187316886}, {'label': 'September', 'value': 59.666538382900704}, {'label': 'September', 'value': 81.96383987521003}, {'label': 'September', 'value': 70.84344673499373}], 'Product Product_30 Profit Margin': [{'label': 'July', 'value': 69.18106840061373}, {'label': 'July', 'value': 61.436652129490646}, {'label': 'July', 'value': 20.85030764498946}, {'label': 'July', 'value': 70.31753047491438}, {'label': 'July', 'value': 48.8710627903587}, {'label': 'July', 'value': 82.36053023349756}, {'label': 'July', 'value': 81.04482240678128}, {'label': 'July', 'value': 81.41383386355928}, {'label': 'July', 'value': 32.566914318833426}, {'label': 'July', 'value': 65.87321427431358}, {'label': 'July', 'value': 15.704077651477318}, {'label': 'July', 'value': 63.70960166445245}, {'label': 'July', 'value': 55.57016380358575}], 'Product Product_31 Profit Margin': [{'label': 'August', 'value': 30.967155044175215}, {'label': 'August', 'value': -3.7899779725760676}, {'label': 'August', 'value': 78.6365176845959}, {'label': 'August', 'value': 74.37177671460982}, {'label': 'August', 'value': 85.2610136125627}, {'label': 'August', 'value': 81.82180089483971}, {'label': 'August', 'value': 75.04083749301807}, {'label': 'August', 'value': 61.22922823079485}, {'label': 'August', 'value': 78.66737630733861}, {'label': 'August', 'value': 43.502945120715665}], 'Product Product_32 Profit Margin': [{'label': 'December', 'value': -67.67973742093338}, {'label': 'December', 'value': 59.94138494350827}, {'label': 'December', 'value': -67.33909884749394}, {'label': 'December', 'value': 59.0366746152252}, {'label': 'December', 'value': 81.48108638424335}, {'label': 'December', 'value': -42.957856359518416}, {'label': 'December', 'value': 66.14017848317604}, {'label': 'December', 'value': 44.537260935692956}, {'label': 'December', 'value': 73.67699677025618}, {'label': 'December', 'value': 71.10463066039516}, {'label': 'December', 'value': 71.94578642911846}, {'label': 'December', 'value': 78.31708289320338}, {'label': 'December', 'value': 73.20514251115507}, {'label': 'December', 'value': 75.52787970250276}, {'label': 'December', 'value': 8.111898916103696}], 'Product Product_33 Profit Margin': [{'label': 'September', 'value': 78.98856886472801}, {'label': 'September', 'value': 66.891218557996}, {'label': 'September', 'value': 40.82867935037659}, {'label': 'September', 'value': 29.32315154804124}, {'label': 'September', 'value': -50.557184924122055}, {'label': 'September', 'value': 67.25488464260505}, {'label': 'September', 'value': 69.57448036916236}, {'label': 'September', 'value': 60.124010617934665}], 'Product Product_34 Profit Margin': [{'label': 'May', 'value': 86.85538674515492}, {'label': 'May', 'value': 84.00384220920375}, {'label': 'May', 'value': 79.78810919556706}, {'label': 'May', 'value': 78.3192336350467}, {'label': 'May', 'value': 72.2407449179185}, {'label': 'May', 'value': 83.51028786423798}], 'Product Product_35 Profit Margin': [{'label': 'May', 'value': 80.4971484859607}, {'label': 'May', 'value': -220.87876411358926}, {'label': 'May', 'value': -44.56574455983544}, {'label': 'May', 'value': 71.97994897499144}, {'label': 'May', 'value': 38.12391946334882}, {'label': 'May', 'value': 65.43588562896204}, {'label': 'May', 'value': 26.2846896314232}, {'label': 'May', 'value': -136.70161713902752}, {'label': 'May', 'value': -55.97396754210179}, {'label': 'May', 'value': 77.22104434298097}, {'label': 'May', 'value': 75.85407863983822}, {'label': 'May', 'value': 68.9978491616863}], 'Product Product_36 Profit Margin': [{'label': 'November', 'value': 6.520753377618426}, {'label': 'November', 'value': 61.69593585955958}, {'label': 'November', 'value': 68.32115587826034}, {'label': 'November', 'value': 73.42009554771104}, {'label': 'November', 'value': 76.25889568210704}, {'label': 'November', 'value': 78.39978240731918}, {'label': 'November', 'value': 51.8061072697964}, {'label': 'November', 'value': -174.26872961435635}, {'label': 'November', 'value': 77.6255769924471}, {'label': 'November', 'value': 63.537599784092905}, {'label': 'November', 'value': -6.592304675612581}, {'label': 'November', 'value': 44.292553648741595}, {'label': 'November', 'value': 11.866268040177086}, {'label': 'November', 'value': 74.50321954357092}, {'label': 'November', 'value': 57.610223565518105}, {'label': 'November', 'value': 77.87902971242477}], 'Product Product_37 Profit Margin': [{'label': 'October', 'value': -158.0126719970518}, {'label': 'October', 'value': 69.42612453007196}, {'label': 'October', 'value': -21.346965012826747}, {'label': 'October', 'value': 57.448561679593766}, {'label': 'October', 'value': 50.65587397840038}, {'label': 'October', 'value': 66.42328166317724}, {'label': 'October', 'value': 48.4420970114729}, {'label': 'October', 'value': 7.101049542619009}], 'Product Product_38 Profit Margin': [{'label': 'April', 'value': 79.84876217078353}, {'label': 'April', 'value': 74.63082408188629}, {'label': 'April', 'value': 50.32667857128872}, {'label': 'April', 'value': 18.056703764923373}, {'label': 'April', 'value': 7.1173043756456815}, {'label': 'April', 'value': 72.17499701587109}, {'label': 'April', 'value': 47.27093660932915}], 'Product Product_39 Profit Margin': [{'label': 'September', 'value': 51.98508311903406}, {'label': 'September', 'value': 43.46073610311061}, {'label': 'September', 'value': -185.20258891733468}, {'label': 'September', 'value': -53.09460705295621}, {'label': 'September', 'value': 77.77039575227231}, {'label': 'September', 'value': 56.556835500128365}, {'label': 'September', 'value': 1.836366814533404}, {'label': 'September', 'value': 78.37410581279548}, {'label': 'September', 'value': 62.023297507803086}, {'label': 'September', 'value': -197.1644568090629}, {'label': 'September', 'value': 39.679913531450985}], 'Product Product_4 Profit Margin': [{'label': 'May', 'value': 70.62085761109552}, {'label': 'May', 'value': 81.34678609228739}, {'label': 'May', 'value': 37.037458659219155}, {'label': 'May', 'value': 14.864330718395316}, {'label': 'May', 'value': 59.569742549828696}, {'label': 'May', 'value': 48.260099273325764}, {'label': 'May', 'value': 65.44128638928466}, {'label': 'May', 'value': 74.78120397917985}, {'label': 'May', 'value': 74.34622928298951}, {'label': 'May', 'value': 68.75106228789177}, {'label': 'May', 'value': 37.288500699260695}, {'label': 'May', 'value': 81.02643023856898}], 'Product Product_40 Profit Margin': [{'label': 'May', 'value': -52.78235779826561}, {'label': 'May', 'value': 59.29942728584565}, {'label': 'May', 'value': 80.56094914044245}, {'label': 'May', 'value': 39.66601592366863}, {'label': 'May', 'value': 83.30951277396676}], 'Product Product_41 Profit Margin': [{'label': 'February', 'value': 78.12326904518181}, {'label': 'February', 'value': -15.823956834231343}, {'label': 'February', 'value': 64.94920350600746}, {'label': 'February', 'value': 73.09198193120687}, {'label': 'February', 'value': 80.49493349939455}, {'label': 'February', 'value': 46.34360458713722}, {'label': 'February', 'value': 36.31054875462698}, {'label': 'February', 'value': 78.6730475826305}, {'label': 'February', 'value': 66.94969403234239}, {'label': 'February', 'value': 17.000925864386428}], 'Product Product_42 Profit Margin': [{'label': 'October', 'value': -2.2412045186830802}, {'label': 'October', 'value': -70.22082668482751}, {'label': 'October', 'value': 66.59921832493592}, {'label': 'October', 'value': 39.7774813197487}, {'label': 'October', 'value': 71.88814098735554}, {'label': 'October', 'value': 71.96505318069013}, {'label': 'October', 'value': 51.959208806817436}, {'label': 'October', 'value': 49.10845795816052}, {'label': 'October', 'value': 82.15421056968027}, {'label': 'October', 'value': 78.4552670489663}, {'label': 'October', 'value': 80.12968815166863}, {'label': 'October', 'value': -16.24723270658881}], 'Product Product_43 Profit Margin': [{'label': 'August', 'value': 66.16269432377469}, {'label': 'August', 'value': 79.55259010714228}, {'label': 'August', 'value': 78.39964842859992}, {'label': 'August', 'value': 71.86076267548789}, {'label': 'August', 'value': 72.99659847729262}, {'label': 'August', 'value': 71.61968167211866}, {'label': 'August', 'value': 70.73008353388612}, {'label': 'August', 'value': 76.4495139999461}], 'Product Product_44 Profit Margin': [{'label': 'July', 'value': -219.1620837411186}, {'label': 'July', 'value': 67.02759943567426}, {'label': 'July', 'value': 78.50429724584778}, {'label': 'July', 'value': 64.85774727045354}, {'label': 'July', 'value': 58.65980581356048}, {'label': 'July', 'value': 70.7591175303519}, {'label': 'July', 'value': 48.178202461321014}, {'label': 'July', 'value': 12.488747504660171}, {'label': 'July', 'value': 81.75578289169673}, {'label': 'July', 'value': 75.24834957641261}, {'label': 'July', 'value': 69.28539772549667}, {'label': 'July', 'value': 63.779129515954956}], 'Product Product_45 Profit Margin': [{'label': 'August', 'value': 57.9711772175}, {'label': 'August', 'value': 76.74289148916165}, {'label': 'August', 'value': -84.69055789374539}, {'label': 'August', 'value': 87.08702910309945}, {'label': 'August', 'value': 82.73578530910909}, {'label': 'August', 'value': 76.73181370723498}, {'label': 'August', 'value': 81.10710922238037}, {'label': 'August', 'value': 71.62024096894181}, {'label': 'August', 'value': 86.31919899788576}], 'Product Product_46 Profit Margin': [{'label': 'December', 'value': 5.848492560938466}, {'label': 'December', 'value': 34.855657339640366}, {'label': 'December', 'value': 72.38026783711537}, {'label': 'December', 'value': -100.36144963276776}, {'label': 'December', 'value': 75.7911832808118}, {'label': 'December', 'value': 71.38019501652175}, {'label': 'December', 'value': -211.8422772885333}, {'label': 'December', 'value': 76.79270382340239}, {'label': 'December', 'value': 71.52836413430377}], 'Product Product_47 Profit Margin': [{'label': 'March', 'value': -111.08840365385666}, {'label': 'March', 'value': 83.57557739112208}, {'label': 'March', 'value': -200.7739133873904}, {'label': 'March', 'value': 83.53525649942839}, {'label': 'March', 'value': 80.33684606127157}, {'label': 'March', 'value': -22.541630848639997}, {'label': 'March', 'value': 9.9237095065021}, {'label': 'March', 'value': 42.771394504423846}, {'label': 'March', 'value': 74.32599076243342}], 'Product Product_48 Profit Margin': [{'label': 'April', 'value': 82.86832344145104}, {'label': 'April', 'value': 16.913101711283847}, {'label': 'April', 'value': 85.06988685265635}, {'label': 'April', 'value': 74.87174356588515}, {'label': 'April', 'value': 66.6125864761947}, {'label': 'April', 'value': 83.33960555103232}, {'label': 'April', 'value': 62.68156792748258}, {'label': 'April', 'value': 75.68880495610841}], 'Product Product_49 Profit Margin': [{'label': 'May', 'value': 81.07480208008224}, {'label': 'May', 'value': 77.33567466041242}, {'label': 'May', 'value': 14.200158607214755}, {'label': 'May', 'value': 83.93181271481737}, {'label': 'May', 'value': 43.45425674318987}, {'label': 'May', 'value': 41.71164468307001}, {'label': 'May', 'value': 73.23217968572168}, {'label': 'May', 'value': 37.68360154537923}, {'label': 'May', 'value': 61.6375475714692}, {'label': 'May', 'value': 82.86850373578385}, {'label': 'May', 'value': 80.75477306287716}, {'label': 'May', 'value': 75.10520594816367}, {'label': 'May', 'value': -81.64276034340581}], 'Product Product_5 Profit Margin': [{'label': 'October', 'value': 52.20451821001344}, {'label': 'October', 'value': 85.22200261519812}, {'label': 'October', 'value': 67.91580282736423}, {'label': 'October', 'value': 85.65458383055649}, {'label': 'October', 'value': -58.75381192522862}, {'label': 'October', 'value': 56.15952144629707}, {'label': 'October', 'value': 42.520184067939255}, {'label': 'October', 'value': 75.52223977880357}, {'label': 'October', 'value': 73.20423673189134}, {'label': 'October', 'value': -34.97282778509606}, {'label': 'October', 'value': 81.54251455291384}, {'label': 'October', 'value': 84.08934479456356}], 'Product Product_50 Profit Margin': [{'label': 'June', 'value': 77.6441806676061}, {'label': 'June', 'value': 67.66021489196042}, {'label': 'June', 'value': 67.48654647193209}, {'label': 'June', 'value': 53.32966080653823}, {'label': 'June', 'value': 84.55498942685811}, {'label': 'June', 'value': -9.90772548200144}, {'label': 'June', 'value': -13.184277017838983}, {'label': 'June', 'value': 52.31436892490061}, {'label': 'June', 'value': -43.231811374192866}, {'label': 'June', 'value': 80.34207997157996}], 'Product Product_51 Profit Margin': [{'label': 'January', 'value': 74.3065986128444}, {'label': 'January', 'value': 65.46074786465415}, {'label': 'January', 'value': 39.0756468596281}, {'label': 'January', 'value': 69.74322798350018}, {'label': 'January', 'value': 72.28850609760875}, {'label': 'January', 'value': 64.55456351339193}, {'label': 'January', 'value': 79.66110670748395}], 'Product Product_52 Profit Margin': [{'label': 'April', 'value': 56.168888987350606}, {'label': 'April', 'value': -64.52081923913}, {'label': 'April', 'value': 58.81923962960147}, {'label': 'April', 'value': 22.576229446628933}, {'label': 'April', 'value': 80.37007932218042}, {'label': 'April', 'value': 12.60205271610203}, {'label': 'April', 'value': 63.644592052709335}, {'label': 'April', 'value': -11.840764707827178}, {'label': 'April', 'value': -25.02187341577432}, {'label': 'April', 'value': 61.767111687076046}, {'label': 'April', 'value': 77.64304655354579}, {'label': 'April', 'value': 58.03820638785409}], 'Product Product_53 Profit Margin': [{'label': 'November', 'value': -193.49310291814777}, {'label': 'November', 'value': 67.69677144872864}, {'label': 'November', 'value': -40.35897448366329}], 'Product Product_54 Profit Margin': [{'label': 'December', 'value': 13.09408655844242}, {'label': 'December', 'value': 78.21440362513911}, {'label': 'December', 'value': 64.28596260438084}, {'label': 'December', 'value': -34.422705679292775}, {'label': 'December', 'value': 71.31857273126009}, {'label': 'December', 'value': 67.17986390909735}, {'label': 'December', 'value': 62.906061998551756}, {'label': 'December', 'value': 75.19378162639136}], 'Product Product_55 Profit Margin': [{'label': 'October', 'value': 74.80077060241734}, {'label': 'October', 'value': 66.0150673891026}, {'label': 'October', 'value': 70.07206160776612}, {'label': 'October', 'value': 83.93370913505939}, {'label': 'October', 'value': 22.26338182337026}, {'label': 'October', 'value': 81.84179460483676}, {'label': 'October', 'value': 74.68288107696637}, {'label': 'October', 'value': 53.103083324232884}, {'label': 'October', 'value': 82.81935150614194}, {'label': 'October', 'value': 78.27027391479108}, {'label': 'October', 'value': 64.91601414527575}, {'label': 'October', 'value': 70.33598650208813}], 'Product Product_56 Profit Margin': [{'label': 'May', 'value': 79.09230907679972}, {'label': 'May', 'value': 50.72285252520488}, {'label': 'May', 'value': 84.98044103423852}, {'label': 'May', 'value': 70.80727424887029}, {'label': 'May', 'value': 54.68738045697996}, {'label': 'May', 'value': -55.73072307913986}], 'Product Product_57 Profit Margin': [{'label': 'July', 'value': 84.03710027583088}, {'label': 'July', 'value': 78.92687327708258}, {'label': 'July', 'value': 34.55514597749607}, {'label': 'July', 'value': 22.507415801307275}, {'label': 'July', 'value': 82.69287357091125}, {'label': 'July', 'value': 61.721507586768396}, {'label': 'July', 'value': 71.90854268053062}, {'label': 'July', 'value': 49.89414125331778}], 'Product Product_58 Profit Margin': [{'label': 'May', 'value': -40.19367751183877}, {'label': 'May', 'value': 46.93078828579049}, {'label': 'May', 'value': 83.85354089280811}, {'label': 'May', 'value': 86.91465244441544}, {'label': 'May', 'value': -34.47526675497002}, {'label': 'May', 'value': 79.21176602078937}, {'label': 'May', 'value': 69.9760353735531}, {'label': 'May', 'value': 21.946937688478215}, {'label': 'May', 'value': 84.92105304121256}, {'label': 'May', 'value': 82.24022345740845}, {'label': 'May', 'value': 71.59087830020283}, {'label': 'May', 'value': 67.63375833474619}, {'label': 'May', 'value': 70.67010257674872}, {'label': 'May', 'value': 57.72984106413433}], 'Product Product_59 Profit Margin': [{'label': 'January', 'value': 81.12120068528847}, {'label': 'January', 'value': -12.168375998389147}, {'label': 'January', 'value': 78.30806899544433}], 'Product Product_6 Profit Margin': [{'label': 'June', 'value': 64.86431065285268}, {'label': 'June', 'value': 81.58237366521055}, {'label': 'June', 'value': 66.02947104857266}, {'label': 'June', 'value': 76.27931462803974}, {'label': 'June', 'value': 78.89782530704463}], 'Product Product_60 Profit Margin': [{'label': 'November', 'value': 78.1074814887154}, {'label': 'November', 'value': 59.0606319894945}, {'label': 'November', 'value': 49.055830025965115}, {'label': 'November', 'value': -139.9762092963685}, {'label': 'November', 'value': 67.87120859732583}, {'label': 'November', 'value': 73.49934986780123}, {'label': 'November', 'value': 75.53706354282082}, {'label': 'November', 'value': 37.212696356397906}, {'label': 'November', 'value': 47.09600053871264}, {'label': 'November', 'value': 74.12439623259499}, {'label': 'November', 'value': 71.30280525117489}, {'label': 'November', 'value': 31.037220030954238}, {'label': 'November', 'value': -127.97306323127518}, {'label': 'November', 'value': 75.91670022943111}, {'label': 'November', 'value': 77.68130801788583}, {'label': 'November', 'value': 62.49135338042282}, {'label': 'November', 'value': 2.351418522693222}, {'label': 'November', 'value': 78.06263214338465}, {'label': 'November', 'value': 55.67273945664625}, {'label': 'November', 'value': -45.4386088460622}], 'Product Product_61 Profit Margin': [{'label': 'July', 'value': 70.28250112807378}, {'label': 'July', 'value': 62.82256038800824}, {'label': 'July', 'value': 44.556153530517776}, {'label': 'July', 'value': 78.13626924301393}, {'label': 'July', 'value': 26.09712131799854}, {'label': 'July', 'value': -88.22547591381934}], 'Product Product_62 Profit Margin': [{'label': 'August', 'value': -80.63460187301999}, {'label': 'August', 'value': 83.93477307599221}, {'label': 'August', 'value': 49.91230884518772}, {'label': 'August', 'value': 84.71359995849872}, {'label': 'August', 'value': 80.56888568041482}, {'label': 'August', 'value': -69.64622610897612}], 'Product Product_63 Profit Margin': [{'label': 'July', 'value': 63.99513289313701}, {'label': 'July', 'value': -22.7076559840455}, {'label': 'July', 'value': 79.75142305195185}, {'label': 'July', 'value': 61.445862340236204}, {'label': 'July', 'value': 15.790612250522312}, {'label': 'July', 'value': 81.34338445722675}, {'label': 'July', 'value': 50.592268691642595}, {'label': 'July', 'value': -61.781648736770734}, {'label': 'July', 'value': 36.6026634071784}, {'label': 'July', 'value': 60.00863592502925}], 'Product Product_64 Profit Margin': [{'label': 'November', 'value': 80.57434841949735}, {'label': 'November', 'value': 71.84007861507376}, {'label': 'November', 'value': 78.52543128896836}, {'label': 'November', 'value': 72.83261293449101}, {'label': 'November', 'value': -9.066002051730695}, {'label': 'November', 'value': -2.462940771681858}, {'label': 'November', 'value': 68.83463203632417}, {'label': 'November', 'value': 2.2379526240285013}, {'label': 'November', 'value': 80.7182025768043}], 'Product Product_65 Profit Margin': [{'label': 'April', 'value': 82.1253570463019}, {'label': 'April', 'value': 65.11549705071162}, {'label': 'April', 'value': 74.12058650686592}, {'label': 'April', 'value': 78.92051322194506}, {'label': 'April', 'value': 79.93078471209823}, {'label': 'April', 'value': 79.07876475000852}, {'label': 'April', 'value': 43.85196001287152}, {'label': 'April', 'value': 74.94730864028568}], 'Product Product_66 Profit Margin': [{'label': 'August', 'value': 82.46874557534642}, {'label': 'August', 'value': 76.52144943721285}, {'label': 'August', 'value': 80.94179246246959}, {'label': 'August', 'value': 76.70326650905467}, {'label': 'August', 'value': 66.40036831404096}, {'label': 'August', 'value': 69.37589695529451}, {'label': 'August', 'value': 61.57394740154629}, {'label': 'August', 'value': 46.63916008595224}, {'label': 'August', 'value': 61.868389480465645}], 'Product Product_67 Profit Margin': [{'label': 'May', 'value': 58.81008844085517}, {'label': 'May', 'value': 82.72200048298988}, {'label': 'May', 'value': 84.06305369020107}, {'label': 'May', 'value': 72.97080832256387}, {'label': 'May', 'value': 41.88752839150743}], 'Product Product_68 Profit Margin': [{'label': 'October', 'value': 42.13035293416156}, {'label': 'October', 'value': 83.03743761669563}, {'label': 'October', 'value': 86.55165685023617}, {'label': 'October', 'value': 58.36059730464497}, {'label': 'October', 'value': 77.89028046076206}, {'label': 'October', 'value': 52.45227061670751}, {'label': 'October', 'value': 82.83910344499431}, {'label': 'October', 'value': -0.45212770992435014}, {'label': 'October', 'value': 79.95180625931391}, {'label': 'October', 'value': 82.86512620027885}, {'label': 'October', 'value': 47.701668771886155}, {'label': 'October', 'value': 49.164147340677886}, {'label': 'October', 'value': -32.91425158129751}, {'label': 'October', 'value': -142.77218435619773}, {'label': 'October', 'value': 26.568221785866513}], 'Product Product_69 Profit Margin': [{'label': 'September', 'value': 75.40322860724204}, {'label': 'September', 'value': 25.464609148811192}, {'label': 'September', 'value': 56.44602679865832}, {'label': 'September', 'value': 84.07303042891472}, {'label': 'September', 'value': 85.44702273227995}, {'label': 'September', 'value': 14.05137194585418}, {'label': 'September', 'value': 82.08103301184418}], 'Product Product_7 Profit Margin': [{'label': 'March', 'value': 26.249989598646195}, {'label': 'March', 'value': 81.75065117168012}, {'label': 'March', 'value': 85.13087566988406}, {'label': 'March', 'value': -26.157291516956455}, {'label': 'March', 'value': 80.12781612412964}, {'label': 'March', 'value': 64.91770537549637}, {'label': 'March', 'value': 83.90720525744001}, {'label': 'March', 'value': 80.45150649004242}, {'label': 'March', 'value': 85.37673356615633}, {'label': 'March', 'value': 74.59269269237379}, {'label': 'March', 'value': 57.550462088912965}, {'label': 'March', 'value': 77.53489970118363}], 'Product Product_70 Profit Margin': [{'label': 'December', 'value': 67.21047666280087}, {'label': 'December', 'value': 48.13195338203428}, {'label': 'December', 'value': 83.52498663401386}, {'label': 'December', 'value': 82.90137434219376}, {'label': 'December', 'value': 27.640417644488004}, {'label': 'December', 'value': 72.33618431453225}, {'label': 'December', 'value': 40.04894216829766}, {'label': 'December', 'value': 71.62249360859944}, {'label': 'December', 'value': 71.04398154335973}, {'label': 'December', 'value': 80.51423643405887}, {'label': 'December', 'value': 67.84412788265286}, {'label': 'December', 'value': 65.13954895937947}, {'label': 'December', 'value': 78.96873084123169}, {'label': 'December', 'value': 80.74820978557823}, {'label': 'December', 'value': 79.80542852344821}, {'label': 'December', 'value': 76.48745777753818}, {'label': 'December', 'value': 71.53618642610739}], 'Product Product_71 Profit Margin': [{'label': 'December', 'value': 47.342365900945175}, {'label': 'December', 'value': -2.3595635284992005}, {'label': 'December', 'value': 74.28131497710363}, {'label': 'December', 'value': 56.44441097967601}, {'label': 'December', 'value': 70.65963178547796}, {'label': 'December', 'value': 83.08478133828127}, {'label': 'December', 'value': 86.31376676168512}, {'label': 'December', 'value': 80.83680673330844}], 'Product Product_72 Profit Margin': [{'label': 'October', 'value': 85.74262345717857}, {'label': 'October', 'value': 65.49086002904932}, {'label': 'October', 'value': 84.96769809497673}, {'label': 'October', 'value': 81.95081142047898}, {'label': 'October', 'value': 85.03024842199122}, {'label': 'October', 'value': 64.26065152513742}, {'label': 'October', 'value': -49.62594844310672}, {'label': 'October', 'value': 86.02383056394292}, {'label': 'October', 'value': 38.81657242361186}, {'label': 'October', 'value': 76.13514131991454}], 'Product Product_73 Profit Margin': [{'label': 'May', 'value': 75.70372156318855}, {'label': 'May', 'value': 70.00097102918323}, {'label': 'May', 'value': 83.36935767279404}, {'label': 'May', 'value': 54.40662465045999}, {'label': 'May', 'value': 35.93265015391668}, {'label': 'May', 'value': 77.4883060413828}, {'label': 'May', 'value': 82.90324677140694}, {'label': 'May', 'value': -91.06726128038476}, {'label': 'May', 'value': 46.38628167448984}], 'Product Product_74 Profit Margin': [{'label': 'January', 'value': 68.71024797252927}, {'label': 'January', 'value': 27.96103019987688}, {'label': 'January', 'value': 71.57946688007594}, {'label': 'January', 'value': 84.09286019280121}, {'label': 'January', 'value': 74.08233208587656}, {'label': 'January', 'value': 65.89842012902383}, {'label': 'January', 'value': 82.13606334365835}, {'label': 'January', 'value': 84.87799906788123}, {'label': 'January', 'value': 20.646612618122788}], 'Product Product_75 Profit Margin': [{'label': 'December', 'value': 19.289626746028883}, {'label': 'December', 'value': 47.800518025358436}, {'label': 'December', 'value': 16.769905823848053}, {'label': 'December', 'value': 80.91093671826724}, {'label': 'December', 'value': 67.43316038023195}, {'label': 'December', 'value': 69.55636080971465}, {'label': 'December', 'value': 42.91176972317151}, {'label': 'December', 'value': 73.51556952451566}, {'label': 'December', 'value': -2.0433193139887535}, {'label': 'December', 'value': 63.69144230802556}, {'label': 'December', 'value': 83.20451985798306}, {'label': 'December', 'value': -30.341202888908093}], 'Product Product_76 Profit Margin': [{'label': 'September', 'value': 85.08943622874196}, {'label': 'September', 'value': 71.15959837144585}, {'label': 'September', 'value': 32.76602925730088}, {'label': 'September', 'value': 40.24209532885432}], 'Product Product_77 Profit Margin': [{'label': 'December', 'value': -19.565328052081743}, {'label': 'December', 'value': 80.18093662244623}, {'label': 'December', 'value': 80.40890336231446}, {'label': 'December', 'value': 53.689133650414334}, {'label': 'December', 'value': 70.86727935146338}, {'label': 'December', 'value': 67.61308023093736}, {'label': 'December', 'value': 77.26270882614376}, {'label': 'December', 'value': 72.04467747135429}], 'Product Product_78 Profit Margin': [{'label': 'May', 'value': 82.02286230506165}, {'label': 'May', 'value': 10.555951622564058}, {'label': 'May', 'value': -16.289530061859285}, {'label': 'May', 'value': 87.534663394929}, {'label': 'May', 'value': 87.25083048718314}, {'label': 'May', 'value': 80.81678188288882}, {'label': 'May', 'value': 85.79453175988827}, {'label': 'May', 'value': -13.227133707919926}, {'label': 'May', 'value': 76.00077686210531}, {'label': 'May', 'value': 79.3906239823056}], 'Product Product_79 Profit Margin': [{'label': 'June', 'value': -199.00083147392527}, {'label': 'June', 'value': 81.25475651949738}, {'label': 'June', 'value': 65.45719021118596}, {'label': 'June', 'value': 84.9025732454151}, {'label': 'June', 'value': 43.54304591530093}, {'label': 'June', 'value': 82.74263726795532}, {'label': 'June', 'value': 64.9794497352014}, {'label': 'June', 'value': 73.44367016249788}, {'label': 'June', 'value': 25.504119233729543}], 'Product Product_8 Profit Margin': [{'label': 'March', 'value': 44.26564142332799}, {'label': 'March', 'value': 47.958269576303046}, {'label': 'March', 'value': 84.41208410845763}, {'label': 'March', 'value': 64.0925225605148}, {'label': 'March', 'value': 74.0436100596959}, {'label': 'March', 'value': 74.71066567700339}, {'label': 'March', 'value': 70.51470812072283}, {'label': 'March', 'value': 74.81282561575449}, {'label': 'March', 'value': 77.05335761592885}, {'label': 'March', 'value': 73.18867936394159}, {'label': 'March', 'value': 82.59583665675879}, {'label': 'March', 'value': 84.1640550501624}, {'label': 'March', 'value': 73.98168546761458}], 'Product Product_80 Profit Margin': [{'label': 'April', 'value': 70.6826255998371}, {'label': 'April', 'value': 64.1794549086962}, {'label': 'April', 'value': 63.01136670270028}, {'label': 'April', 'value': 76.34251172647014}, {'label': 'April', 'value': 27.069061176260405}, {'label': 'April', 'value': 33.529400360123155}, {'label': 'April', 'value': 73.96759183674656}, {'label': 'April', 'value': -92.01494974291113}, {'label': 'April', 'value': 69.69671575082099}], 'Product Product_81 Profit Margin': [{'label': 'June', 'value': 74.16612763700633}, {'label': 'June', 'value': 82.21198913536945}, {'label': 'June', 'value': 83.07827947169011}, {'label': 'June', 'value': 12.811695610537985}, {'label': 'June', 'value': -5.4754976125090815}, {'label': 'June', 'value': 49.416598354003824}, {'label': 'June', 'value': 78.63758614161245}], 'Product Product_82 Profit Margin': [{'label': 'December', 'value': 61.54392867680721}, {'label': 'December', 'value': 53.88854306609044}, {'label': 'December', 'value': 75.82737572925363}, {'label': 'December', 'value': 44.666714217270865}, {'label': 'December', 'value': 78.84349720410431}, {'label': 'December', 'value': 59.63030548982555}, {'label': 'December', 'value': 71.53423552060772}, {'label': 'December', 'value': 31.92480159292101}, {'label': 'December', 'value': -103.13980839604496}, {'label': 'December', 'value': 51.297556441542746}, {'label': 'December', 'value': 11.57398551281582}, {'label': 'December', 'value': 62.45044603624296}, {'label': 'December', 'value': 76.57012649334321}, {'label': 'December', 'value': 7.659877736885283}], 'Product Product_83 Profit Margin': [{'label': 'August', 'value': 84.81449241475383}, {'label': 'August', 'value': 0.9991158562267588}, {'label': 'August', 'value': 27.308770705282864}, {'label': 'August', 'value': -124.57615231911836}, {'label': 'August', 'value': 70.40471882479126}, {'label': 'August', 'value': 81.39070420177335}, {'label': 'August', 'value': 85.93979158283567}, {'label': 'August', 'value': 67.46765980876998}], 'Product Product_84 Profit Margin': [{'label': 'March', 'value': 60.66259092304676}, {'label': 'March', 'value': 65.03262876391159}, {'label': 'March', 'value': 76.68173072933726}, {'label': 'March', 'value': 65.18880442917632}, {'label': 'March', 'value': 63.521238534388004}, {'label': 'March', 'value': 16.36691065159903}, {'label': 'March', 'value': -112.33738394437722}, {'label': 'March', 'value': 19.768285540135526}, {'label': 'March', 'value': 73.36834888223119}], 'Product Product_85 Profit Margin': [{'label': 'May', 'value': 77.88446402622905}, {'label': 'May', 'value': 73.80245307489773}, {'label': 'May', 'value': 60.72809500866744}, {'label': 'May', 'value': 77.22629349793364}, {'label': 'May', 'value': 45.06201634339782}, {'label': 'May', 'value': 15.897301831238991}, {'label': 'May', 'value': 79.77175476982407}, {'label': 'May', 'value': -33.87136447172464}, {'label': 'May', 'value': 48.220404344726305}, {'label': 'May', 'value': 14.334501709490134}, {'label': 'May', 'value': 1.767818414967327}, {'label': 'May', 'value': 78.56177132734493}, {'label': 'May', 'value': 9.594573225848153}, {'label': 'May', 'value': -183.99563351646165}], 'Product Product_86 Profit Margin': [{'label': 'February', 'value': 54.40375243824336}, {'label': 'February', 'value': 74.04130148762573}, {'label': 'February', 'value': 25.888250375252}, {'label': 'February', 'value': 79.4843253863224}, {'label': 'February', 'value': -116.94432974637164}, {'label': 'February', 'value': -74.58924287960981}, {'label': 'February', 'value': 82.0072239479958}, {'label': 'February', 'value': 75.24055343769368}, {'label': 'February', 'value': 82.51248258874547}, {'label': 'February', 'value': 79.48123422477364}, {'label': 'February', 'value': 73.08341552185982}, {'label': 'February', 'value': 59.56054812675834}, {'label': 'February', 'value': 80.42753296298882}, {'label': 'February', 'value': 79.47606315305686}, {'label': 'February', 'value': 58.77107042729748}], 'Product Product_87 Profit Margin': [{'label': 'February', 'value': 49.298717236614145}, {'label': 'February', 'value': 68.07943782471494}, {'label': 'February', 'value': 15.900656346601744}, {'label': 'February', 'value': 67.32365407216562}, {'label': 'February', 'value': 56.59867971370032}, {'label': 'February', 'value': 75.2554595921027}, {'label': 'February', 'value': 38.7700149297649}, {'label': 'February', 'value': 61.60057988137726}, {'label': 'February', 'value': 5.8730215343819365}], 'Product Product_88 Profit Margin': [{'label': 'July', 'value': 73.37685456596567}, {'label': 'July', 'value': 73.47663772911379}, {'label': 'July', 'value': 65.20616058747835}, {'label': 'July', 'value': 58.13768578778773}, {'label': 'July', 'value': 80.92323019850393}, {'label': 'July', 'value': 76.17393058100785}, {'label': 'July', 'value': 68.84739534961294}, {'label': 'July', 'value': 66.25912790083451}, {'label': 'July', 'value': 77.37403683191683}], 'Product Product_89 Profit Margin': [{'label': 'October', 'value': -88.15922740605751}, {'label': 'October', 'value': -296.2652047787502}, {'label': 'October', 'value': 75.49486272260715}, {'label': 'October', 'value': 66.66041824583203}, {'label': 'October', 'value': 75.27743909212529}, {'label': 'October', 'value': 70.82457130184096}, {'label': 'October', 'value': 67.94098956920503}, {'label': 'October', 'value': 67.6915512131457}, {'label': 'October', 'value': -43.59001018095119}, {'label': 'October', 'value': 71.69777559575782}, {'label': 'October', 'value': 75.81661207578723}, {'label': 'October', 'value': 79.73876639107631}, {'label': 'October', 'value': 65.75159716582242}], 'Product Product_9 Profit Margin': [{'label': 'October', 'value': 59.844602714782724}, {'label': 'October', 'value': 73.50130245460724}, {'label': 'October', 'value': 75.12201517187368}, {'label': 'October', 'value': 78.89773945970023}, {'label': 'October', 'value': 77.57114370035968}, {'label': 'October', 'value': 57.733542284994975}, {'label': 'October', 'value': 50.72991374985839}, {'label': 'October', 'value': 62.996423867926964}], 'Product Product_90 Profit Margin': [{'label': 'October', 'value': 49.349095973397816}, {'label': 'October', 'value': 82.27374885981023}, {'label': 'October', 'value': 81.44563331012333}, {'label': 'October', 'value': 54.150409144718935}, {'label': 'October', 'value': 10.903718826750582}, {'label': 'October', 'value': -18.59963096216583}, {'label': 'October', 'value': 62.36643476076888}, {'label': 'October', 'value': 83.27936741421745}], 'Product Product_91 Profit Margin': [{'label': 'November', 'value': 82.73462550125885}, {'label': 'November', 'value': 58.853441883007754}, {'label': 'November', 'value': 71.9112323579247}, {'label': 'November', 'value': 68.38030584668485}, {'label': 'November', 'value': -118.36474447936484}, {'label': 'November', 'value': 57.43460762549428}, {'label': 'November', 'value': 69.333874304388}, {'label': 'November', 'value': 73.35077990372022}], 'Product Product_92 Profit Margin': [{'label': 'October', 'value': 84.95626703681731}, {'label': 'October', 'value': 84.34356210355382}, {'label': 'October', 'value': 84.57872623076865}, {'label': 'October', 'value': 76.51992094779237}, {'label': 'October', 'value': 76.68026178391058}, {'label': 'October', 'value': 46.48893472812661}, {'label': 'October', 'value': 77.77653689962108}, {'label': 'October', 'value': 23.629766270314924}, {'label': 'October', 'value': 40.863311022309205}, {'label': 'October', 'value': 76.49794073770535}, {'label': 'October', 'value': 61.08974911764632}, {'label': 'October', 'value': 83.69199985928304}], 'Product Product_93 Profit Margin': [{'label': 'June', 'value': 72.84357410846121}, {'label': 'June', 'value': 40.91676292062431}, {'label': 'June', 'value': 52.13540472013549}, {'label': 'June', 'value': -12.419333545000537}, {'label': 'June', 'value': 77.95275583906434}, {'label': 'June', 'value': 77.00393513419723}, {'label': 'June', 'value': 44.87559973659507}, {'label': 'June', 'value': 44.4378934938939}, {'label': 'June', 'value': 49.6934521574005}], 'Product Product_94 Profit Margin': [{'label': 'April', 'value': 73.35454255944387}, {'label': 'April', 'value': 81.55177749918121}, {'label': 'April', 'value': 76.73893918658227}, {'label': 'April', 'value': -9.55681592683644}, {'label': 'April', 'value': 83.08846575463448}], 'Product Product_95 Profit Margin': [{'label': 'May', 'value': 24.957919545236127}, {'label': 'May', 'value': 43.478991117893145}, {'label': 'May', 'value': -168.44045350267666}, {'label': 'May', 'value': 78.09103776916622}, {'label': 'May', 'value': 76.07248635722333}, {'label': 'May', 'value': 25.92475145456544}, {'label': 'May', 'value': 70.53376716630804}], 'Product Product_96 Profit Margin': [{'label': 'January', 'value': 70.40035195004532}, {'label': 'January', 'value': 68.10434793910433}, {'label': 'January', 'value': -20.846334063624667}, {'label': 'January', 'value': 75.39450357053707}, {'label': 'January', 'value': 69.92903587280423}, {'label': 'January', 'value': 68.49535742226949}], 'Product Product_97 Profit Margin': [{'label': 'July', 'value': 76.94360407849435}, {'label': 'July', 'value': 75.10492439965954}, {'label': 'July', 'value': 65.81235335039337}, {'label': 'July', 'value': 76.70893112027231}, {'label': 'July', 'value': 29.11214527198325}, {'label': 'July', 'value': 70.44623177946163}, {'label': 'July', 'value': 47.89082292974978}, {'label': 'July', 'value': 49.584085570451}, {'label': 'July', 'value': 38.67932864964728}], 'Product Product_98 Profit Margin': [{'label': 'August', 'value': 65.61431737317508}, {'label': 'August', 'value': 69.33257551047153}, {'label': 'August', 'value': 77.30788270994057}, {'label': 'August', 'value': 78.34793732260273}, {'label': 'August', 'value': -156.6517619263538}, {'label': 'August', 'value': 45.90274496794264}, {'label': 'August', 'value': -78.90929042839404}, {'label': 'August', 'value': 32.53098122636895}, {'label': 'August', 'value': 80.98732138273574}, {'label': 'August', 'value': 70.80720422268776}, {'label': 'August', 'value': 19.79465825532939}, {'label': 'August', 'value': 20.469564075470547}, {'label': 'August', 'value': 69.27036058581348}, {'label': 'August', 'value': 79.14046298369458}], 'Product Product_99 Profit Margin': [{'label': 'September', 'value': 68.20573414375038}, {'label': 'September', 'value': -12.034278971469956}, {'label': 'September', 'value': -4.304346787885017}, {'label': 'September', 'value': -63.17006722655364}, {'label': 'September', 'value': 30.450893827771235}, {'label': 'September', 'value': 78.16072564974786}, {'label': 'September', 'value': 79.60787699607569}, {'label': 'September', 'value': 77.37611904690199}, {'label': 'September', 'value': 46.019649260757824}, {'label': 'September', 'value': 60.819559962898154}, {'label': 'September', 'value': 49.37776402805659}, {'label': 'September', 'value': 77.05545211661979}, {'label': 'September', 'value': 26.223006798538062}]}\n"
          ]
        }
      ]
    },
    {
      "cell_type": "code",
      "source": [
        "performance_dict = {}\n",
        "\n",
        "for ProductName, data in df.groupby('ProductName'):\n",
        "      key = f'Product {ProductName} Profit'\n",
        "      performance_dict[key] = []\n",
        "\n",
        "      for idx, row in data.iterrows():\n",
        "          performance_dict[key].append({\n",
        "              'label': row['Month'],\n",
        "              'value': row['Profit'],\n",
        "          })\n",
        "print(performance_dict)"
      ],
      "metadata": {
        "colab": {
          "base_uri": "https://localhost:8080/"
        },
        "id": "X1JfMNKcCmc9",
        "outputId": "02e843f6-8fe6-4acc-9092-892884384515"
      },
      "execution_count": null,
      "outputs": [
        {
          "output_type": "stream",
          "name": "stdout",
          "text": [
            "{'Product Product_1 Profit': [{'label': 'August', 'value': 57.136880585742325}, {'label': 'August', 'value': 104.5821611010766}, {'label': 'August', 'value': 42.95044211277963}, {'label': 'August', 'value': 93.12378408237635}, {'label': 'August', 'value': 33.53104181772628}, {'label': 'August', 'value': -8.195203675159764}], 'Product Product_10 Profit': [{'label': 'August', 'value': 29.867359300621487}, {'label': 'August', 'value': 86.35789581762545}, {'label': 'August', 'value': 31.725330343864968}, {'label': 'August', 'value': 84.57005388561377}, {'label': 'August', 'value': -20.96009213332274}, {'label': 'August', 'value': 68.26314910951012}, {'label': 'August', 'value': 93.276738733611}, {'label': 'August', 'value': 104.50707160986896}, {'label': 'August', 'value': -20.05971667034621}, {'label': 'August', 'value': 27.617972887880214}, {'label': 'August', 'value': -8.492992244582268}, {'label': 'August', 'value': 132.29945993642417}, {'label': 'August', 'value': 37.0940459929039}, {'label': 'August', 'value': 129.58712422688808}], 'Product Product_100 Profit': [{'label': 'August', 'value': 41.11129138875238}, {'label': 'August', 'value': 126.85517458043994}, {'label': 'August', 'value': 3.861136283103516}, {'label': 'August', 'value': -6.032910634307694}, {'label': 'August', 'value': 94.3277063113445}, {'label': 'August', 'value': 62.73335128678136}, {'label': 'August', 'value': 102.0124246801512}, {'label': 'August', 'value': 106.47463189576486}], 'Product Product_11 Profit': [{'label': 'November', 'value': 105.34272237708916}, {'label': 'November', 'value': 63.74869927207635}, {'label': 'November', 'value': 92.34823358837255}, {'label': 'November', 'value': 156.3114148930137}, {'label': 'November', 'value': 153.20342823365982}, {'label': 'November', 'value': -20.494196104013263}, {'label': 'November', 'value': 9.610693721790582}], 'Product Product_12 Profit': [{'label': 'October', 'value': -0.3546178290260471}, {'label': 'October', 'value': 70.71941401665447}, {'label': 'October', 'value': 61.20602546321633}, {'label': 'October', 'value': 72.55278204099986}, {'label': 'October', 'value': 37.42334299330894}, {'label': 'October', 'value': 162.86021375206744}, {'label': 'October', 'value': -18.146870377367506}, {'label': 'October', 'value': 57.19847333238334}, {'label': 'October', 'value': 160.10535047087546}, {'label': 'October', 'value': 120.71089958079321}, {'label': 'October', 'value': 36.00560225628704}], 'Product Product_13 Profit': [{'label': 'October', 'value': 74.1419283265943}, {'label': 'October', 'value': 42.61075188210812}, {'label': 'October', 'value': 167.77033257278438}, {'label': 'October', 'value': 61.32239445140311}, {'label': 'October', 'value': 20.467089053167204}, {'label': 'October', 'value': 52.459594474360316}, {'label': 'October', 'value': 128.96284659297544}, {'label': 'October', 'value': 143.98455683719527}, {'label': 'October', 'value': 120.52129515854715}, {'label': 'October', 'value': 14.968892769908951}, {'label': 'October', 'value': 111.4764820497516}, {'label': 'October', 'value': 5.380392701583791}, {'label': 'October', 'value': -9.391056596720498}], 'Product Product_14 Profit': [{'label': 'December', 'value': 103.92742937653622}, {'label': 'December', 'value': 10.754079520564957}, {'label': 'December', 'value': -14.423123049483149}, {'label': 'December', 'value': -2.3404098615534323}, {'label': 'December', 'value': 147.8894504360465}, {'label': 'December', 'value': 151.57959956886748}, {'label': 'December', 'value': 86.80858642791972}, {'label': 'December', 'value': 5.345891967385434}, {'label': 'December', 'value': 78.36310468417287}], 'Product Product_15 Profit': [{'label': 'February', 'value': 157.72334825631498}, {'label': 'February', 'value': 67.10202565243574}, {'label': 'February', 'value': 10.241174110065188}, {'label': 'February', 'value': 153.35141664792303}, {'label': 'February', 'value': 86.15709073533395}, {'label': 'February', 'value': 40.14238442651278}, {'label': 'February', 'value': 61.297889715176495}, {'label': 'February', 'value': 80.04563746481584}, {'label': 'February', 'value': 148.0548928579738}, {'label': 'February', 'value': 131.52829262953867}, {'label': 'February', 'value': -17.33381018654668}, {'label': 'February', 'value': 101.16645680925144}, {'label': 'February', 'value': 127.61206407723459}, {'label': 'February', 'value': 2.651878147129466}, {'label': 'February', 'value': 141.86617402768053}, {'label': 'February', 'value': 50.27999020050058}], 'Product Product_16 Profit': [{'label': 'November', 'value': 59.000288287687916}, {'label': 'November', 'value': 163.98102899203403}, {'label': 'November', 'value': 98.60718875160092}, {'label': 'November', 'value': 90.99519869621477}, {'label': 'November', 'value': -14.974535483577473}, {'label': 'November', 'value': 134.103564758811}, {'label': 'November', 'value': 6.992735593842205}, {'label': 'November', 'value': 140.306500544665}, {'label': 'November', 'value': 41.82453287339609}, {'label': 'November', 'value': 131.9198718370577}, {'label': 'November', 'value': 166.04150190195585}, {'label': 'November', 'value': 22.418444312354048}], 'Product Product_17 Profit': [{'label': 'December', 'value': -7.915105434669883}, {'label': 'December', 'value': 144.27469998297926}, {'label': 'December', 'value': -15.531117340347738}, {'label': 'December', 'value': 130.7061211782776}, {'label': 'December', 'value': 3.361641516582978}, {'label': 'December', 'value': 157.06893457167536}, {'label': 'December', 'value': 24.61454695343295}, {'label': 'December', 'value': 135.27057740477147}, {'label': 'December', 'value': -15.211174914039152}], 'Product Product_18 Profit': [{'label': 'December', 'value': 87.53968056751656}, {'label': 'December', 'value': 79.75863079708051}, {'label': 'December', 'value': 41.246360009831704}, {'label': 'December', 'value': 138.4016887495556}, {'label': 'December', 'value': 97.05394452542372}, {'label': 'December', 'value': 20.900034072712792}, {'label': 'December', 'value': 43.72644739892385}], 'Product Product_19 Profit': [{'label': 'February', 'value': -3.686997953825891}, {'label': 'February', 'value': 58.661024490799704}, {'label': 'February', 'value': 82.15792130622937}, {'label': 'February', 'value': 29.394769909866255}, {'label': 'February', 'value': 117.75656540439766}, {'label': 'February', 'value': 152.85238962452127}, {'label': 'February', 'value': -6.527149431029979}, {'label': 'February', 'value': -13.102682856234424}, {'label': 'February', 'value': 100.14975348503057}, {'label': 'February', 'value': -13.214872820853284}, {'label': 'February', 'value': 94.82802615801313}, {'label': 'February', 'value': 43.15687819483453}, {'label': 'February', 'value': 82.91461144395103}], 'Product Product_2 Profit': [{'label': 'February', 'value': 19.05343212117132}, {'label': 'February', 'value': 53.76709573371629}, {'label': 'February', 'value': 51.80769275810238}, {'label': 'February', 'value': 30.664670068468396}, {'label': 'February', 'value': 38.94774936087852}, {'label': 'February', 'value': 130.18933024713442}, {'label': 'February', 'value': -0.063070171786336}, {'label': 'February', 'value': 42.158070032481234}, {'label': 'February', 'value': 40.23220796820901}, {'label': 'February', 'value': 132.46511305655918}, {'label': 'February', 'value': 76.2192561484092}, {'label': 'February', 'value': 86.90765539383867}, {'label': 'February', 'value': -12.073095820092906}, {'label': 'February', 'value': 115.65607008837823}, {'label': 'February', 'value': 43.645814246834036}], 'Product Product_20 Profit': [{'label': 'May', 'value': 31.201199703547527}, {'label': 'May', 'value': 81.9881519628784}, {'label': 'May', 'value': 43.25883229771124}, {'label': 'May', 'value': 148.92541520360302}, {'label': 'May', 'value': 92.29644499895528}, {'label': 'May', 'value': 65.20925776509976}, {'label': 'May', 'value': 160.80421092346083}, {'label': 'May', 'value': -5.902952779005336}, {'label': 'May', 'value': 54.21894313552099}], 'Product Product_21 Profit': [{'label': 'June', 'value': 34.28755701010961}, {'label': 'June', 'value': 53.34835196908554}, {'label': 'June', 'value': 50.302190705543495}, {'label': 'June', 'value': 9.262438896558926}, {'label': 'June', 'value': 18.382711928668506}, {'label': 'June', 'value': 116.31658908510047}, {'label': 'June', 'value': 156.56231893785156}, {'label': 'June', 'value': 86.89759853295588}, {'label': 'June', 'value': 76.5276210228598}, {'label': 'June', 'value': 54.955372754871405}, {'label': 'June', 'value': -3.551798446553107}, {'label': 'June', 'value': 102.565619036799}, {'label': 'June', 'value': 154.34563155901085}, {'label': 'June', 'value': 155.1485087270825}, {'label': 'June', 'value': -21.024668180898036}, {'label': 'June', 'value': 35.05008618082829}, {'label': 'June', 'value': 62.33899135817049}, {'label': 'June', 'value': 129.8599924341851}, {'label': 'June', 'value': 147.00893927784483}, {'label': 'June', 'value': 107.75450407935134}, {'label': 'June', 'value': 147.87803099558107}, {'label': 'June', 'value': 18.227211996269055}, {'label': 'June', 'value': 97.23305382263823}, {'label': 'June', 'value': 119.98755089251108}, {'label': 'June', 'value': 98.61130020595166}, {'label': 'June', 'value': 53.858186643627135}, {'label': 'June', 'value': -13.920128936825648}], 'Product Product_22 Profit': [{'label': 'December', 'value': 5.753937503687581}, {'label': 'December', 'value': 24.7253107560949}, {'label': 'December', 'value': 36.492393321431905}, {'label': 'December', 'value': 62.614792096403505}, {'label': 'December', 'value': 56.31823845245577}, {'label': 'December', 'value': 52.57278875090309}, {'label': 'December', 'value': 137.41952668597602}, {'label': 'December', 'value': 128.8453510743368}, {'label': 'December', 'value': 138.17293004522958}, {'label': 'December', 'value': 44.96657532666319}, {'label': 'December', 'value': -3.6548400031370782}], 'Product Product_23 Profit': [{'label': 'February', 'value': -8.162050570352335}, {'label': 'February', 'value': 12.673875868997996}, {'label': 'February', 'value': 72.09210300198757}, {'label': 'February', 'value': 23.239593731928977}, {'label': 'February', 'value': 22.10256415930113}, {'label': 'February', 'value': 41.41755694398733}, {'label': 'February', 'value': 30.743190227868695}, {'label': 'February', 'value': 40.534233584684436}, {'label': 'February', 'value': 140.7820949433776}, {'label': 'February', 'value': 127.30385843421143}], 'Product Product_24 Profit': [{'label': 'May', 'value': 129.32556001242705}, {'label': 'May', 'value': -16.21901294936925}, {'label': 'May', 'value': 55.8144982285133}, {'label': 'May', 'value': 54.220971805608585}, {'label': 'May', 'value': 79.31246471547308}, {'label': 'May', 'value': 126.55091119606124}, {'label': 'May', 'value': -3.5301541535494003}, {'label': 'May', 'value': 81.79611712142423}, {'label': 'May', 'value': 112.26574645241189}, {'label': 'May', 'value': 24.19129193598352}, {'label': 'May', 'value': 91.1832735193453}, {'label': 'May', 'value': -2.5229334492901785}, {'label': 'May', 'value': 53.526242063859414}], 'Product Product_25 Profit': [{'label': 'July', 'value': 122.06299295571067}, {'label': 'July', 'value': 78.13350630159313}, {'label': 'July', 'value': 102.74650895471312}, {'label': 'July', 'value': 50.511144474563935}, {'label': 'July', 'value': 95.89890468137459}, {'label': 'July', 'value': 149.0681050721896}, {'label': 'July', 'value': 111.48694038189267}, {'label': 'July', 'value': 35.798873759859944}, {'label': 'July', 'value': 64.6024347796252}, {'label': 'July', 'value': 76.06516671937052}, {'label': 'July', 'value': 53.79350310902913}], 'Product Product_26 Profit': [{'label': 'October', 'value': 164.67442361300877}, {'label': 'October', 'value': 67.25690751479411}, {'label': 'October', 'value': 12.416063212814713}, {'label': 'October', 'value': 5.8635460365217185}, {'label': 'October', 'value': 139.15298993632697}, {'label': 'October', 'value': -16.293061360356404}, {'label': 'October', 'value': 72.34476885858751}, {'label': 'October', 'value': 15.055705945571873}, {'label': 'October', 'value': -8.795841269525305}, {'label': 'October', 'value': 129.220064798822}, {'label': 'October', 'value': 154.10165715751992}], 'Product Product_27 Profit': [{'label': 'October', 'value': 165.35052760112092}, {'label': 'October', 'value': 17.32428286105735}, {'label': 'October', 'value': 44.71257363129655}, {'label': 'October', 'value': 48.12346643603793}, {'label': 'October', 'value': 2.696612184908737}, {'label': 'October', 'value': 115.706646204536}, {'label': 'October', 'value': 86.61154584761972}], 'Product Product_28 Profit': [{'label': 'August', 'value': 32.169625844758244}, {'label': 'August', 'value': 94.61995464674024}, {'label': 'August', 'value': 32.781376844622486}, {'label': 'August', 'value': 103.44842371689512}, {'label': 'August', 'value': 46.10104648361384}, {'label': 'August', 'value': 145.30547712948547}, {'label': 'August', 'value': -5.002596039569482}], 'Product Product_29 Profit': [{'label': 'December', 'value': 78.67263025503897}, {'label': 'December', 'value': 165.57778886840842}, {'label': 'December', 'value': 110.445020244511}, {'label': 'December', 'value': 129.55304877445536}, {'label': 'December', 'value': 101.44364762351162}, {'label': 'December', 'value': 126.14988670020765}], 'Product Product_3 Profit': [{'label': 'September', 'value': 7.705159652386563}, {'label': 'September', 'value': -0.18393775131570322}, {'label': 'September', 'value': 111.92077557254976}, {'label': 'September', 'value': 94.51318294727096}, {'label': 'September', 'value': 148.86675959848455}, {'label': 'September', 'value': -10.562311270328642}, {'label': 'September', 'value': 152.22317248456545}, {'label': 'September', 'value': 3.193833799046917}, {'label': 'September', 'value': 163.66846342043686}, {'label': 'September', 'value': 169.08494398129474}, {'label': 'September', 'value': 36.76073594778561}, {'label': 'September', 'value': 112.9268114136487}, {'label': 'September', 'value': 60.37850448288585}], 'Product Product_30 Profit': [{'label': 'July', 'value': 76.88469613070966}, {'label': 'July', 'value': 54.56611424899019}, {'label': 'July', 'value': 9.022636324700429}, {'label': 'July', 'value': 81.13977440972307}, {'label': 'July', 'value': 32.73823295756762}, {'label': 'July', 'value': 159.9203840339273}, {'label': 'July', 'value': 146.44266835089996}, {'label': 'July', 'value': 150.03017234969263}, {'label': 'July', 'value': 16.541458317970843}, {'label': 'July', 'value': 66.11251614611488}, {'label': 'July', 'value': 6.3808139752066}, {'label': 'July', 'value': 60.12891551219086}, {'label': 'July', 'value': 42.83878859822731}], 'Product Product_31 Profit': [{'label': 'August', 'value': 12.951488300958019}, {'label': 'August', 'value': -1.0542786380893148}, {'label': 'August', 'value': 106.27383881163325}, {'label': 'August', 'value': 83.78452241323593}, {'label': 'August', 'value': 167.01559091388032}, {'label': 'August', 'value': 129.95479813472662}, {'label': 'August', 'value': 86.80441297277976}, {'label': 'August', 'value': 45.59618216189537}, {'label': 'August', 'value': 106.46933322986769}, {'label': 'August', 'value': 22.231409122934686}], 'Product Product_32 Profit': [{'label': 'December', 'value': -14.71601648278681}, {'label': 'December', 'value': 54.556063778569175}, {'label': 'December', 'value': -14.671754791993791}, {'label': 'December', 'value': 52.545903909758984}, {'label': 'December', 'value': 160.41814522385687}, {'label': 'December', 'value': -10.955867212819818}, {'label': 'December', 'value': 71.21851007100022}, {'label': 'December', 'value': 29.277526060052757}, {'label': 'December', 'value': 102.04897888207847}, {'label': 'December', 'value': 89.71846211913646}, {'label': 'December', 'value': 93.50168793542858}, {'label': 'December', 'value': 131.68944852184995}, {'label': 'December', 'value': 99.60985882981683}, {'label': 'December', 'value': 112.52470415445731}, {'label': 'December', 'value': 3.2186624930747527}], 'Product Product_33 Profit': [{'label': 'September', 'value': 131.9923682175666}, {'label': 'September', 'value': 70.93590610681764}, {'label': 'September', 'value': 24.22670103332215}, {'label': 'September', 'value': 14.567119376715588}, {'label': 'September', 'value': -11.790211835417686}, {'label': 'September', 'value': 72.11365658453666}, {'label': 'September', 'value': 80.28828425639081}, {'label': 'September', 'value': 52.93911553266973}], 'Product Product_34 Profit': [{'label': 'May', 'value': 161.68435848000354}, {'label': 'May', 'value': 128.4998240671921}, {'label': 'May', 'value': 96.59403144505521}, {'label': 'May', 'value': 88.39197989817143}, {'label': 'May', 'value': 63.6785946183421}, {'label': 'May', 'value': 123.92130225029089}], 'Product Product_35 Profit': [{'label': 'May', 'value': 158.32102026107384}, {'label': 'May', 'value': -26.40396723979201}, {'label': 'May', 'value': -11.824749990043632}, {'label': 'May', 'value': 98.53688080558105}, {'label': 'May', 'value': 23.633657925973118}, {'label': 'May', 'value': 72.61841222839452}, {'label': 'May', 'value': 13.67733085717866}, {'label': 'May', 'value': -22.15279991851928}, {'label': 'May', 'value': -13.765442287833402}, {'label': 'May', 'value': 130.03434052270927}, {'label': 'May', 'value': 120.50119494178738}, {'label': 'May', 'value': 85.3689472438009}], 'Product Product_36 Profit': [{'label': 'November', 'value': 2.516341219622362}, {'label': 'November', 'value': 58.10301393263053}, {'label': 'November', 'value': 77.79878932218757}, {'label': 'November', 'value': 99.64338905802876}, {'label': 'November', 'value': 115.87148048299835}, {'label': 'November', 'value': 130.93136380901834}, {'label': 'November', 'value': 38.777152458992745}, {'label': 'November', 'value': -22.920818951323557}, {'label': 'November', 'value': 125.15262328574829}, {'label': 'November', 'value': 62.85973003299797}, {'label': 'November', 'value': -2.230993879678522}, {'label': 'November', 'value': 28.681669660793446}, {'label': 'November', 'value': 4.856897677666424}, {'label': 'November', 'value': 105.40874835834722}, {'label': 'November', 'value': 49.02587966040282}, {'label': 'November', 'value': 126.9998827475178}], 'Product Product_37 Profit': [{'label': 'October', 'value': -24.839174442284953}, {'label': 'October', 'value': 92.09980430877579}, {'label': 'October', 'value': -7.134992095635653}, {'label': 'October', 'value': 54.75845574428837}, {'label': 'October', 'value': 41.637114840989426}, {'label': 'October', 'value': 80.23583146648531}, {'label': 'October', 'value': 38.10780786032986}, {'label': 'October', 'value': 3.1002592498633064}], 'Product Product_38 Profit': [{'label': 'April', 'value': 149.64647386534472}, {'label': 'April', 'value': 111.0994491925359}, {'label': 'April', 'value': 38.2626546046788}, {'label': 'April', 'value': 8.321949422001993}, {'label': 'April', 'value': 2.893881588858214}, {'label': 'April', 'value': 97.96063319741717}, {'label': 'April', 'value': 33.856665191853835}], 'Product Product_39 Profit': [{'label': 'September', 'value': 45.662576819294486}, {'label': 'September', 'value': 32.41938577443301}, {'label': 'September', 'value': -27.38744033028091}, {'label': 'September', 'value': -14.626768005122223}, {'label': 'September', 'value': 147.5504140198123}, {'label': 'September', 'value': 54.90621462535519}, {'label': 'September', 'value': 0.7889812211700402}, {'label': 'September', 'value': 152.84681019157426}, {'label': 'September', 'value': 68.880367289669}, {'label': 'September', 'value': -27.982700096648884}, {'label': 'September', 'value': 27.743842874278172}], 'Product Product_4 Profit': [{'label': 'May', 'value': 86.92979074161744}, {'label': 'May', 'value': 157.7108199261479}, {'label': 'May', 'value': 21.273242545574867}, {'label': 'May', 'value': 6.314057984892308}, {'label': 'May', 'value': 53.283651275863065}, {'label': 'May', 'value': 33.73163410832679}, {'label': 'May', 'value': 68.48083079905919}, {'label': 'May', 'value': 107.23655780655174}, {'label': 'May', 'value': 104.80511982444229}, {'label': 'May', 'value': 79.56442262120731}, {'label': 'May', 'value': 21.50317050416418}, {'label': 'May', 'value': 154.43737750626883}], 'Product Product_40 Profit': [{'label': 'May', 'value': -10.334356528107882}, {'label': 'May', 'value': 43.58307218036325}, {'label': 'May', 'value': 123.97022235981751}, {'label': 'May', 'value': 19.666380589090778}, {'label': 'May', 'value': 149.31156302522243}], 'Product Product_41 Profit': [{'label': 'February', 'value': 103.39751381275991}, {'label': 'February', 'value': -3.955749722441084}, {'label': 'February', 'value': 53.65226393590152}, {'label': 'February', 'value': 78.65025620862127}, {'label': 'February', 'value': 119.49045772266786}, {'label': 'February', 'value': 25.00808462931449}, {'label': 'February', 'value': 16.50735227927305}, {'label': 'February', 'value': 106.80935391874553}, {'label': 'February', 'value': 58.65232418532505}, {'label': 'February', 'value': 5.930774886606436}], 'Product Product_42 Profit': [{'label': 'October', 'value': -0.7293398452661606}, {'label': 'October', 'value': -13.725483469799812}, {'label': 'October', 'value': 66.3417479064467}, {'label': 'October', 'value': 21.97620886031588}, {'label': 'October', 'value': 85.08286302279777}, {'label': 'October', 'value': 85.4075615377162}, {'label': 'October', 'value': 35.98543745894138}, {'label': 'October', 'value': 32.10591822765443}, {'label': 'October', 'value': 153.16815146575846}, {'label': 'October', 'value': 121.1589213239638}, {'label': 'October', 'value': 134.17239682630853}, {'label': 'October', 'value': -4.650195227825616}], 'Product Product_43 Profit': [{'label': 'August', 'value': 65.40806272733502}, {'label': 'August', 'value': 130.14572274500966}, {'label': 'August', 'value': 121.41355450343337}, {'label': 'August', 'value': 85.42665047282136}, {'label': 'August', 'value': 90.42698011321986}, {'label': 'August', 'value': 84.41682276210875}, {'label': 'August', 'value': 80.83446464830234}, {'label': 'August', 'value': 108.58972503038746}], 'Product Product_44 Profit': [{'label': 'July', 'value': -24.780246584818823}, {'label': 'July', 'value': 73.35920106862937}, {'label': 'July', 'value': 131.79328309391082}, {'label': 'July', 'value': 66.60146111681019}, {'label': 'July', 'value': 51.20585277427528}, {'label': 'July', 'value': 87.32597179731246}, {'label': 'July', 'value': 33.54977513130299}, {'label': 'July', 'value': 5.149991118434762}, {'label': 'July', 'value': 161.7129294465092}, {'label': 'July', 'value': 109.70951895883465}, {'label': 'July', 'value': 81.40448120997277}, {'label': 'July', 'value': 63.54350972195123}], 'Product Product_45 Profit': [{'label': 'August', 'value': 35.60725877633868}, {'label': 'August', 'value': 85.18361881028214}, {'label': 'August', 'value': -11.837607813117476}, {'label': 'August', 'value': 174.1008734173865}, {'label': 'August', 'value': 123.71438833332469}, {'label': 'August', 'value': 85.13077328648028}, {'label': 'August', 'value': 110.82408537147982}, {'label': 'August', 'value': 65.14794501072706}, {'label': 'August', 'value': 162.8806608468897}], 'Product Product_46 Profit': [{'label': 'December', 'value': 2.5349360628628688}, {'label': 'December', 'value': 21.8346843059509}, {'label': 'December', 'value': 106.94268135723752}, {'label': 'December', 'value': -20.441045565882227}, {'label': 'December', 'value': 127.76016700897421}, {'label': 'December', 'value': 101.77975610638728}, {'label': 'December', 'value': -27.722218929798828}, {'label': 'December', 'value': 135.03481695788122}, {'label': 'December', 'value': 102.52179889708384}], 'Product Product_47 Profit': [{'label': 'March', 'value': -16.163129891888286}, {'label': 'March', 'value': 156.28251342552124}, {'label': 'March', 'value': -20.501622396004542}, {'label': 'March', 'value': 155.82457597694045}, {'label': 'March', 'value': 125.48236958230879}, {'label': 'March', 'value': -5.6496662133537185}, {'label': 'March', 'value': 3.3836439912994223}, {'label': 'March', 'value': 22.95415760826735}, {'label': 'March', 'value': 88.9135860660794}], 'Product Product_48 Profit': [{'label': 'April', 'value': 136.407421899067}, {'label': 'April', 'value': 5.740371886002723}, {'label': 'April', 'value': 160.68009171799622}, {'label': 'April', 'value': 84.02430061098536}, {'label': 'April', 'value': 56.262993551186526}, {'label': 'April', 'value': 141.06376659738592}, {'label': 'April', 'value': 47.365898239358216}, {'label': 'April', 'value': 87.79598496725771}], 'Product Product_49 Profit': [{'label': 'May', 'value': 137.37661062978282}, {'label': 'May', 'value': 109.42194066107761}, {'label': 'May', 'value': 5.307304926034014}, {'label': 'May', 'value': 167.5047194954642}, {'label': 'May', 'value': 24.643349657272154}, {'label': 'May', 'value': 22.947894423903556}, {'label': 'May', 'value': 87.73164699540288}, {'label': 'May', 'value': 19.391767148438824}, {'label': 'May', 'value': 51.523613998835756}, {'label': 'May', 'value': 155.1177624831954}, {'label': 'May', 'value': 134.5589205609025}, {'label': 'May', 'value': 96.74506787487233}, {'label': 'May', 'value': -14.413415848654196}], 'Product Product_5 Profit': [{'label': 'October', 'value': 30.317776443151754}, {'label': 'October', 'value': 160.07084883552994}, {'label': 'October', 'value': 58.75647865727008}, {'label': 'October', 'value': 165.73474153405567}, {'label': 'October', 'value': -10.272779930060672}, {'label': 'October', 'value': 35.55692618350767}, {'label': 'October', 'value': 20.533163489503085}, {'label': 'October', 'value': 85.64051754400707}, {'label': 'October', 'value': 75.8308951114302}, {'label': 'October', 'value': -7.192179212408838}, {'label': 'October', 'value': 122.62744032357986}, {'label': 'October', 'value': 146.6996244710223}], 'Product Product_50 Profit': [{'label': 'June', 'value': 96.64013536554981}, {'label': 'June', 'value': 58.215073803335805}, {'label': 'June', 'value': 57.75549516842678}, {'label': 'June', 'value': 31.795603568961575}, {'label': 'June', 'value': 152.33168253694748}, {'label': 'June', 'value': -2.5083316258775383}, {'label': 'June', 'value': -3.241226849241645}, {'label': 'June', 'value': 30.526194399367576}, {'label': 'June', 'value': -8.398527673722754}, {'label': 'June', 'value': 113.72205956123682}], 'Product Product_51 Profit': [{'label': 'January', 'value': 88.02858209471843}, {'label': 'January', 'value': 57.688063310421256}, {'label': 'January', 'value': 19.522398589518737}, {'label': 'January', 'value': 70.16125966451158}, {'label': 'January', 'value': 79.40123129283765}, {'label': 'January', 'value': 55.43506313307023}, {'label': 'January', 'value': 119.21665827128437}], 'Product Product_52 Profit': [{'label': 'April', 'value': 41.63030957228668}, {'label': 'April', 'value': -12.740172124485863}, {'label': 'April', 'value': 46.40035791531113}, {'label': 'April', 'value': 9.472691164721631}, {'label': 'April', 'value': 133.00627727719484}, {'label': 'April', 'value': 4.684209875571192}, {'label': 'April', 'value': 56.87072577431218}, {'label': 'April', 'value': -3.439346323570266}, {'label': 'April', 'value': -6.5017476016340865}, {'label': 'April', 'value': 52.48273647967869}, {'label': 'April', 'value': 112.82003528639812}, {'label': 'April', 'value': 44.932049122284084}], 'Product Product_53 Profit': [{'label': 'November', 'value': -24.379470777983556}, {'label': 'November', 'value': 77.49589734496602}, {'label': 'November', 'value': -10.633019746253758}], 'Product Product_54 Profit': [{'label': 'December', 'value': 4.432932306861588}, {'label': 'December', 'value': 105.62883884268989}, {'label': 'December', 'value': 52.95932278061119}, {'label': 'December', 'value': -7.534207752153264}, {'label': 'December', 'value': 73.15888950516059}, {'label': 'December', 'value': 60.22321864755399}, {'label': 'December', 'value': 49.894741565632685}, {'label': 'December', 'value': 89.18392562791027}], 'Product Product_55 Profit': [{'label': 'October', 'value': 89.46727802808236}, {'label': 'October', 'value': 58.54665273992933}, {'label': 'October', 'value': 70.56892578021996}, {'label': 'October', 'value': 157.45853372172996}, {'label': 'October', 'value': 8.631989509245777}, {'label': 'October', 'value': 135.8462430657895}, {'label': 'October', 'value': 88.91032433206473}, {'label': 'October', 'value': 34.12878760577894}, {'label': 'October', 'value': 145.29065631586622}, {'label': 'October', 'value': 108.56454445783858}, {'label': 'October', 'value': 55.768418850470354}, {'label': 'October', 'value': 71.46494857372271}], 'Product Product_56 Profit': [{'label': 'May', 'value': 103.7509870489602}, {'label': 'May', 'value': 28.2307335538675}, {'label': 'May', 'value': 155.17646495537912}, {'label': 'May', 'value': 66.52230401066919}, {'label': 'May', 'value': 33.10030571840039}, {'label': 'May', 'value': -9.814867282070232}], 'Product Product_57 Profit': [{'label': 'July', 'value': 166.87900628116466}, {'label': 'July', 'value': 118.7239538788709}, {'label': 'July', 'value': 16.73707879044881}, {'label': 'July', 'value': 9.20678332043229}, {'label': 'July', 'value': 151.45567456532996}, {'label': 'July', 'value': 51.112147980367936}, {'label': 'July', 'value': 81.14254952930895}, {'label': 'July', 'value': 31.564831435158492}], 'Product Product_58 Profit': [{'label': 'May', 'value': -7.194669227552076}, {'label': 'May', 'value': 22.192014575766578}, {'label': 'May', 'value': 130.32436753462284}, {'label': 'May', 'value': 166.68221084057157}, {'label': 'May', 'value': -6.433491588157821}, {'label': 'May', 'value': 95.6210737770846}, {'label': 'May', 'value': 58.48746657231495}, {'label': 'May', 'value': 7.056112567177486}, {'label': 'May', 'value': 141.32723881080085}, {'label': 'May', 'value': 116.20593282205485}, {'label': 'May', 'value': 63.238476689611566}, {'label': 'May', 'value': 52.43880250076683}, {'label': 'May', 'value': 60.465367143875504}, {'label': 'May', 'value': 34.272674610252004}], 'Product Product_59 Profit': [{'label': 'January', 'value': 111.74683097803137}, {'label': 'January', 'value': -2.8212229255974925}, {'label': 'January', 'value': 93.88225574475027}], 'Product Product_6 Profit': [{'label': 'June', 'value': 66.1381865427663}, {'label': 'June', 'value': 158.69295016595382}, {'label': 'June', 'value': 69.63546232759106}, {'label': 'June', 'value': 115.205842293914}, {'label': 'June', 'value': 133.94693274253189}], 'Product Product_60 Profit': [{'label': 'November', 'value': 142.02155047936742}, {'label': 'November', 'value': 57.4267576550039}, {'label': 'November', 'value': 38.331293801716896}, {'label': 'November', 'value': -23.218992966512854}, {'label': 'November', 'value': 84.0908097656907}, {'label': 'November', 'value': 110.40387323607705}, {'label': 'November', 'value': 122.91612242239482}, {'label': 'November', 'value': 23.59264576224347}, {'label': 'November', 'value': 35.43666664428693}, {'label': 'November', 'value': 114.03233502327338}, {'label': 'November', 'value': 98.90642676391049}, {'label': 'November', 'value': 17.915354064730778}, {'label': 'November', 'value': -22.345618063551527}, {'label': 'November', 'value': 125.48120255104952}, {'label': 'November', 'value': 138.54955390510264}, {'label': 'November', 'value': 66.32020755125063}, {'label': 'November', 'value': 0.9585644906551352}, {'label': 'November', 'value': 141.6498156915627}, {'label': 'November', 'value': 49.99528404671048}, {'label': 'November', 'value': -12.436628324209217}], 'Product Product_61 Profit': [{'label': 'July', 'value': 64.81914855206627}, {'label': 'July', 'value': 46.313171708438546}, {'label': 'July', 'value': 22.025344406204344}, {'label': 'July', 'value': 97.9482698950003}, {'label': 'July', 'value': 9.678311983412645}, {'label': 'July', 'value': -12.846474952350434}], 'Product Product_62 Profit': [{'label': 'August', 'value': -11.695624212517819}, {'label': 'August', 'value': 136.88566247198509}, {'label': 'August', 'value': 26.108357628409827}, {'label': 'August', 'value': 145.19471977791343}, {'label': 'August', 'value': 108.63569725950407}, {'label': 'August', 'value': -10.756136165221953}], 'Product Product_63 Profit': [{'label': 'July', 'value': 61.32685610647998}, {'label': 'July', 'value': -6.38506928812367}, {'label': 'July', 'value': 135.89669747437284}, {'label': 'July', 'value': 54.99036701188902}, {'label': 'July', 'value': 6.469987294834034}, {'label': 'July', 'value': 150.43688923510638}, {'label': 'July', 'value': 35.330860141895855}, {'label': 'July', 'value': -13.17635251450913}, {'label': 'July', 'value': 19.920793957687835}, {'label': 'July', 'value': 51.77409369692387}], 'Product Product_64 Profit': [{'label': 'November', 'value': 155.5394820569113}, {'label': 'November', 'value': 95.66538024565486}, {'label': 'November', 'value': 137.12142604470714}, {'label': 'November', 'value': 100.530411843465}, {'label': 'November', 'value': -3.117065011970624}, {'label': 'November', 'value': -0.9013772507009392}, {'label': 'November', 'value': 82.8236140949946}, {'label': 'November', 'value': 0.8584204230441586}, {'label': 'November', 'value': 156.97966859704164}], 'Product Product_65 Profit': [{'label': 'April', 'value': 160.7055161574203}, {'label': 'April', 'value': 65.28940481448126}, {'label': 'April', 'value': 100.17868032792953}, {'label': 'April', 'value': 130.9545995154834}, {'label': 'April', 'value': 139.30752412284195}, {'label': 'April', 'value': 132.20973741987206}, {'label': 'April', 'value': 27.3177733668269}, {'label': 'April', 'value': 104.6387499282641}], 'Product Product_66 Profit': [{'label': 'August', 'value': 139.88392737306617}, {'label': 'August', 'value': 96.91775067141239}, {'label': 'August', 'value': 126.29384534312658}, {'label': 'August', 'value': 97.90621218912716}, {'label': 'August', 'value': 58.766170739084906}, {'label': 'August', 'value': 67.3653630545914}, {'label': 'August', 'value': 47.649971416783934}, {'label': 'August', 'value': 25.990790273477273}, {'label': 'August', 'value': 48.24752984338087}], 'Product Product_67 Profit': [{'label': 'May', 'value': 45.081244252880694}, {'label': 'May', 'value': 151.16891364940903}, {'label': 'May', 'value': 166.54629423573223}, {'label': 'May', 'value': 85.2414875814875}, {'label': 'May', 'value': 22.758849782599793}], 'Product Product_68 Profit': [{'label': 'October', 'value': 19.08053505615273}, {'label': 'October', 'value': 128.3006234416711}, {'label': 'October', 'value': 168.67584297850414}, {'label': 'October', 'value': 36.733433367024375}, {'label': 'October', 'value': 92.33074066321596}, {'label': 'October', 'value': 28.91217715809638}, {'label': 'October', 'value': 126.51490739643558}, {'label': 'October', 'value': -0.11796366852424356}, {'label': 'October', 'value': 104.51997917893033}, {'label': 'October', 'value': 126.74684901288717}, {'label': 'October', 'value': 23.905180461194565}, {'label': 'October', 'value': 25.346890267409908}, {'label': 'October', 'value': -6.490209556956994}, {'label': 'October', 'value': -15.413134335520546}, {'label': 'October', 'value': 9.482540980609858}], 'Product Product_69 Profit': [{'label': 'September', 'value': 88.59765911145355}, {'label': 'September', 'value': 9.87381285938213}, {'label': 'September', 'value': 37.45553530151193}, {'label': 'September', 'value': 152.5576400160239}, {'label': 'September', 'value': 169.6897048343393}, {'label': 'September', 'value': 4.724873563529609}, {'label': 'September', 'value': 132.38544948837782}], 'Product Product_7 Profit': [{'label': 'March', 'value': 10.330294581446953}, {'label': 'March', 'value': 130.01381573094253}, {'label': 'March', 'value': 166.16798906973582}, {'label': 'March', 'value': -6.017638191945757}, {'label': 'March', 'value': 117.02627073651851}, {'label': 'March', 'value': 53.70575489708875}, {'label': 'March', 'value': 151.325960929623}, {'label': 'March', 'value': 119.44460616613407}, {'label': 'March', 'value': 169.44969779585327}, {'label': 'March', 'value': 85.20857468090186}, {'label': 'March', 'value': 39.347895054552524}, {'label': 'March', 'value': 100.16927348773987}], 'Product Product_70 Profit': [{'label': 'December', 'value': 66.86262747148588}, {'label': 'December', 'value': 30.270191024791266}, {'label': 'December', 'value': 165.37589439224723}, {'label': 'December', 'value': 158.154696384874}, {'label': 'December', 'value': 12.460346404886664}, {'label': 'December', 'value': 85.29529599894181}, {'label': 'December', 'value': 21.79092999586792}, {'label': 'December', 'value': 82.32974569416103}, {'label': 'December', 'value': 80.03316921449651}, {'label': 'December', 'value': 134.78352698729475}, {'label': 'December', 'value': 68.82299024054154}, {'label': 'December', 'value': 60.95275105451515}, {'label': 'December', 'value': 122.48171068544742}, {'label': 'December', 'value': 136.81803504232948}, {'label': 'December', 'value': 128.90784811521883}, {'label': 'December', 'value': 106.11388249380393}, {'label': 'December', 'value': 81.98119882216938}], 'Product Product_71 Profit': [{'label': 'December', 'value': 23.669440058511743}, {'label': 'December', 'value': -0.6068797104473376}, {'label': 'December', 'value': 76.03791371293215}, {'label': 'December', 'value': 34.11743893362032}, {'label': 'December', 'value': 63.40232425539054}, {'label': 'December', 'value': 129.31331160420575}, {'label': 'December', 'value': 166.0334153990181}, {'label': 'December', 'value': 111.05564494351091}], 'Product Product_72 Profit': [{'label': 'October', 'value': 149.6717178396409}, {'label': 'October', 'value': 47.23121884182062}, {'label': 'October', 'value': 140.67306781982197}, {'label': 'October', 'value': 112.99992909098356}, {'label': 'October', 'value': 141.36485434306965}, {'label': 'October', 'value': 44.74876859512172}, {'label': 'October', 'value': -8.254380777465151}, {'label': 'October', 'value': 153.18393298147893}, {'label': 'October', 'value': 15.78941269005794}, {'label': 'October', 'value': 79.39787637900697}], 'Product Product_73 Profit': [{'label': 'May', 'value': 88.682910901152}, {'label': 'May', 'value': 66.41395339670237}, {'label': 'May', 'value': 142.67894787055323}, {'label': 'May', 'value': 33.963505149887396}, {'label': 'May', 'value': 15.963016237099236}, {'label': 'May', 'value': 97.96940196952048}, {'label': 'May', 'value': 138.01311627382913}, {'label': 'May', 'value': -13.565583017189782}, {'label': 'May', 'value': 24.624992028316182}], 'Product Product_74 Profit': [{'label': 'January', 'value': 61.519983156464974}, {'label': 'January', 'value': 10.873828732635726}, {'label': 'January', 'value': 70.55910323621812}, {'label': 'January', 'value': 148.1029944080276}, {'label': 'January', 'value': 80.07842776954035}, {'label': 'January', 'value': 54.13739027665261}, {'label': 'January', 'value': 128.81117065834732}, {'label': 'January', 'value': 157.24711481664593}, {'label': 'January', 'value': 7.289204798811735}], 'Product Product_75 Profit': [{'label': 'December', 'value': 7.32665490909158}, {'label': 'December', 'value': 28.072279427379833}, {'label': 'December', 'value': 6.176771075092695}, {'label': 'December', 'value': 129.9373123439299}, {'label': 'December', 'value': 63.47594377750442}, {'label': 'December', 'value': 70.04087347745056}, {'label': 'December', 'value': 23.04311108721}, {'label': 'December', 'value': 85.09419924960343}, {'label': 'December', 'value': -0.6138509482089205}, {'label': 'December', 'value': 53.77536344102716}, {'label': 'December', 'value': 151.86782146431014}, {'label': 'December', 'value': -7.136123179002848}], 'Product Product_76 Profit': [{'label': 'September', 'value': 151.30772390694122}, {'label': 'September', 'value': 65.4201748963547}, {'label': 'September', 'value': 12.921548753212807}, {'label': 'September', 'value': 17.855200897949377}], 'Product Product_77 Profit': [{'label': 'December', 'value': -5.710305398546705}, {'label': 'December', 'value': 141.17749123406387}, {'label': 'December', 'value': 143.2263266683195}, {'label': 'December', 'value': 40.45581475203895}, {'label': 'December', 'value': 84.88719385378478}, {'label': 'December', 'value': 72.85150657665858}, {'label': 'December', 'value': 118.57924162066593}, {'label': 'December', 'value': 89.9321250518852}], 'Product Product_78 Profit': [{'label': 'May', 'value': 110.49941582544969}, {'label': 'May', 'value': 2.858192990195427}, {'label': 'May', 'value': -3.392450710175126}, {'label': 'May', 'value': 170.06763097591116}, {'label': 'May', 'value': 165.74226911137197}, {'label': 'May', 'value': 102.02948497993697}, {'label': 'May', 'value': 146.2681138874675}, {'label': 'May', 'value': -2.8291816760265256}, {'label': 'May', 'value': 76.69489448069083}, {'label': 'May', 'value': 93.29319761984178}], 'Product Product_79 Profit': [{'label': 'June', 'value': -19.911697991361265}, {'label': 'June', 'value': 129.68313747637794}, {'label': 'June', 'value': 56.6924857329424}, {'label': 'June', 'value': 168.24560314880924}, {'label': 'June', 'value': 23.074227128621455}, {'label': 'June', 'value': 143.44345364222875}, {'label': 'June', 'value': 55.51097624743616}, {'label': 'June', 'value': 82.73935271270102}, {'label': 'June', 'value': 10.24245046913489}], 'Product Product_8 Profit': [{'label': 'March', 'value': 24.65640545341416}, {'label': 'March', 'value': 28.60867766740882}, {'label': 'March', 'value': 168.1134953624166}, {'label': 'March', 'value': 55.41259353605514}, {'label': 'March', 'value': 88.55830668439896}, {'label': 'March', 'value': 91.71306698308344}, {'label': 'March', 'value': 74.24381673571752}, {'label': 'March', 'value': 92.21097576446404}, {'label': 'March', 'value': 104.24576706476545}, {'label': 'March', 'value': 84.74453734554162}, {'label': 'March', 'value': 147.3299409737615}, {'label': 'March', 'value': 164.99419973830288}, {'label': 'March', 'value': 88.27364716371463}], 'Product Product_80 Profit': [{'label': 'April', 'value': 83.16164257839955}, {'label': 'April', 'value': 61.80153930633575}, {'label': 'April', 'value': 58.76057990354705}, {'label': 'April', 'value': 111.30976591071129}, {'label': 'April', 'value': 12.802560825464333}, {'label': 'April', 'value': 17.399294875163953}, {'label': 'April', 'value': 98.0082406159571}, {'label': 'April', 'value': -16.529465437549476}, {'label': 'April', 'value': 79.33376631470523}], 'Product Product_81 Profit': [{'label': 'June', 'value': 76.41512233912258}, {'label': 'June', 'value': 123.01865889806628}, {'label': 'June', 'value': 130.67911774167672}, {'label': 'June', 'value': 3.911214174553727}, {'label': 'June', 'value': -1.3817683126620963}, {'label': 'June', 'value': 26.003274075206367}, {'label': 'June', 'value': 97.98127071639631}], 'Product Product_82 Profit': [{'label': 'December', 'value': 63.7482613165009}, {'label': 'December', 'value': 46.551710189551684}, {'label': 'December', 'value': 124.9540298756839}, {'label': 'December', 'value': 32.15478340860383}, {'label': 'December', 'value': 148.446527424536}, {'label': 'December', 'value': 58.838231948823534}, {'label': 'December', 'value': 100.10116482950114}, {'label': 'December', 'value': 18.680449995802334}, {'label': 'December', 'value': -20.224571292610573}, {'label': 'December', 'value': 41.95598958895141}, {'label': 'December', 'value': 5.213758682163785}, {'label': 'December', 'value': 66.248920299247}, {'label': 'December', 'value': 130.17796054435837}, {'label': 'December', 'value': 3.3042997319708505}], 'Product Product_83 Profit': [{'label': 'August', 'value': 140.63330621357687}, {'label': 'August', 'value': 0.2541114362713017}, {'label': 'August', 'value': 9.459486685608212}, {'label': 'August', 'value': -13.96750092974428}, {'label': 'August', 'value': 59.899987342741454}, {'label': 'August', 'value': 110.12661733675566}, {'label': 'August', 'value': 153.90402233194737}, {'label': 'August', 'value': 52.218906601743896}], 'Product Product_84 Profit': [{'label': 'March', 'value': 52.92944643024158}, {'label': 'March', 'value': 63.83376698365045}, {'label': 'March', 'value': 112.86979653066105}, {'label': 'March', 'value': 64.27413279050742}, {'label': 'March', 'value': 59.766940059176775}, {'label': 'March', 'value': 6.71692842764169}, {'label': 'March', 'value': -18.158500919092628}, {'label': 'March', 'value': 8.456780951750645}, {'label': 'March', 'value': 94.55680766159885}], 'Product Product_85 Profit': [{'label': 'May', 'value': 112.2990937008984}, {'label': 'May', 'value': 89.83241086702799}, {'label': 'May', 'value': 49.30949721180011}, {'label': 'May', 'value': 108.13203011121408}, {'label': 'May', 'value': 26.155365282919707}, {'label': 'May', 'value': 6.027488296315024}, {'label': 'May', 'value': 125.75168708923226}, {'label': 'May', 'value': -8.068037106654423}, {'label': 'May', 'value': 29.695803298513734}, {'label': 'May', 'value': 5.335799968900385}, {'label': 'May', 'value': 0.573861050705414}, {'label': 'May', 'value': 116.85444918927593}, {'label': 'May', 'value': 3.3841846077910525}, {'label': 'May', 'value': -20.659449204556413}], 'Product Product_86 Profit': [{'label': 'February', 'value': 40.86748724165316}, {'label': 'February', 'value': 97.69431960262352}, {'label': 'February', 'value': 11.964479694496255}, {'label': 'February', 'value': 132.70090147452504}, {'label': 'February', 'value': -18.463288190946777}, {'label': 'February', 'value': -14.633118858525119}, {'label': 'February', 'value': 156.11050159701801}, {'label': 'February', 'value': 104.08526002427166}, {'label': 'February', 'value': 161.61053843039687}, {'label': 'February', 'value': 132.67575003485388}, {'label': 'February', 'value': 92.9987408517955}, {'label': 'February', 'value': 50.44656601421368}, {'label': 'February', 'value': 140.74642096026827}, {'label': 'February', 'value': 132.63369220687753}, {'label': 'February', 'value': 48.82471584631676}], 'Product Product_87 Profit': [{'label': 'February', 'value': 38.694640053626976}, {'label': 'February', 'value': 84.87495731194471}, {'label': 'February', 'value': 7.524135092415044}, {'label': 'February', 'value': 81.99140606353086}, {'label': 'February', 'value': 51.89643183489786}, {'label': 'February', 'value': 121.02992381925927}, {'label': 'February', 'value': 25.197993184434445}, {'label': 'February', 'value': 63.84020513796842}, {'label': 'February', 'value': 2.4830279883526174}], 'Product Product_88 Profit': [{'label': 'July', 'value': 100.92359471930281}, {'label': 'July', 'value': 101.4410374734564}, {'label': 'July', 'value': 68.6245104046562}, {'label': 'July', 'value': 50.85427787628676}, {'label': 'July', 'value': 155.33215071755933}, {'label': 'July', 'value': 117.07035829603014}, {'label': 'July', 'value': 80.9256386544536}, {'label': 'July', 'value': 71.90885877225708}, {'label': 'July', 'value': 125.22215243567622}], 'Product Product_89 Profit': [{'label': 'October', 'value': -18.79691242604885}, {'label': 'October', 'value': -29.99431667849924}, {'label': 'October', 'value': 123.59603073227237}, {'label': 'October', 'value': 80.21436514216799}, {'label': 'October', 'value': 122.15623655921505}, {'label': 'October', 'value': 97.38923892318931}, {'label': 'October', 'value': 85.0209628583487}, {'label': 'October', 'value': 84.0548201520802}, {'label': 'October', 'value': -12.17887036765477}, {'label': 'October', 'value': 101.63174340755253}, {'label': 'October', 'value': 125.77418012810605}, {'label': 'October', 'value': 157.8875524198751}, {'label': 'October', 'value': 77.0211940773803}], 'Product Product_9 Profit': [{'label': 'October', 'value': 47.040370013111975}, {'label': 'October', 'value': 87.550811275455}, {'label': 'October', 'value': 95.31070871114287}, {'label': 'October', 'value': 118.01174914331656}, {'label': 'October', 'value': 109.16482785239938}, {'label': 'October', 'value': 43.114367670024244}, {'label': 'October', 'value': 32.49903528693232}, {'label': 'October', 'value': 53.735570852976814}], 'Product Product_90 Profit': [{'label': 'October', 'value': 29.61784487665311}, {'label': 'October', 'value': 141.09312183384}, {'label': 'October', 'value': 133.43910592874997}, {'label': 'October', 'value': 35.90275139919299}, {'label': 'October', 'value': 3.7202876516757897}, {'label': 'October', 'value': -4.767409349127259}, {'label': 'October', 'value': 50.3775460333895}, {'label': 'October', 'value': 151.40707440566837}], 'Product Product_91 Profit': [{'label': 'November', 'value': 154.2862718496333}, {'label': 'November', 'value': 46.052619305687}, {'label': 'November', 'value': 82.42899947273763}, {'label': 'November', 'value': 69.62887152257763}, {'label': 'November', 'value': -17.452426818784744}, {'label': 'November', 'value': 43.444319586430524}, {'label': 'November', 'value': 72.79516585228563}, {'label': 'November', 'value': 88.62091191836161}], 'Product Product_92 Profit': [{'label': 'October', 'value': 163.12428484080894}, {'label': 'October', 'value': 155.6101044503388}, {'label': 'October', 'value': 158.423538129111}, {'label': 'October', 'value': 94.13557356020563}, {'label': 'October', 'value': 94.98143598605665}, {'label': 'October', 'value': 25.094862070249448}, {'label': 'October', 'value': 101.09174204561674}, {'label': 'October', 'value': 8.93746020937786}, {'label': 'October', 'value': 19.959762223054682}, {'label': 'October', 'value': 94.02051864347627}, {'label': 'October', 'value': 45.35060923443247}, {'label': 'October', 'value': 148.2388558300776}], 'Product Product_93 Profit': [{'label': 'June', 'value': 108.73361791161035}, {'label': 'June', 'value': 28.07257102231391}, {'label': 'June', 'value': 44.15333997559814}, {'label': 'June', 'value': -4.47818971166685}, {'label': 'June', 'value': 143.3251367175842}, {'label': 'June', 'value': 135.73898507733088}, {'label': 'June', 'value': 32.99982154717419}, {'label': 'June', 'value': 32.420519099212186}, {'label': 'June', 'value': 40.04237743794354}], 'Product Product_94 Profit': [{'label': 'April', 'value': 89.09535969818504}, {'label': 'April', 'value': 143.06393170813746}, {'label': 'April', 'value': 106.76711987936639}, {'label': 'April', 'value': -2.823092265790308}, {'label': 'April', 'value': 159.00434170746314}], 'Product Product_95 Profit': [{'label': 'May', 'value': 11.115754406290264}, {'label': 'May', 'value': 25.71017195060046}, {'label': 'May', 'value': -20.97171110499867}, {'label': 'May', 'value': 119.12826478337153}, {'label': 'May', 'value': 106.2589369471586}, {'label': 'May', 'value': 11.697065244926236}, {'label': 'May', 'value': 80.0032982855125}], 'Product Product_96 Profit': [{'label': 'January', 'value': 97.52695389900457}, {'label': 'January', 'value': 87.55475374059638}, {'label': 'January', 'value': -7.0734711978322125}, {'label': 'January', 'value': 125.64462983495405}, {'label': 'January', 'value': 95.35567940134963}, {'label': 'January', 'value': 89.15033021853635}], 'Product Product_97 Profit': [{'label': 'July', 'value': 95.67420063794296}, {'label': 'July', 'value': 86.49055866817946}, {'label': 'July', 'value': 55.18892728485186}, {'label': 'July', 'value': 94.42135967241418}, {'label': 'July', 'value': 11.77378537384418}, {'label': 'July', 'value': 68.33743013077328}, {'label': 'July', 'value': 26.34825292057123}, {'label': 'July', 'value': 28.196058191335222}, {'label': 'July', 'value': 18.083636350039672}], 'Product Product_98 Profit': [{'label': 'August', 'value': 66.79823851412227}, {'label': 'August', 'value': 79.14146300284945}, {'label': 'August', 'value': 119.25945079903525}, {'label': 'August', 'value': 126.66958195427074}, {'label': 'August', 'value': -21.366583260736682}, {'label': 'August', 'value': 29.703489592963834}, {'label': 'August', 'value': -15.439715391297618}, {'label': 'August', 'value': 16.878615291154865}, {'label': 'August', 'value': 149.11377794561784}, {'label': 'August', 'value': 84.90745104809798}, {'label': 'August', 'value': 8.63950301001033}, {'label': 'August', 'value': 9.009885598426187}, {'label': 'August', 'value': 78.91036092176587}, {'label': 'August', 'value': 132.8121989665656}], 'Product Product_99 Profit': [{'label': 'September', 'value': 79.0079520102721}, {'label': 'September', 'value': -3.9561055420576565}, {'label': 'September', 'value': -1.51985992602512}, {'label': 'September', 'value': -14.258359633440882}, {'label': 'September', 'value': 16.12527798002234}, {'label': 'September', 'value': 131.81022356995214}, {'label': 'September', 'value': 143.77796024232543}, {'label': 'September', 'value': 125.96171183495342}, {'label': 'September', 'value': 31.398313416151282}, {'label': 'September', 'value': 57.17059107716223}, {'label': 'September', 'value': 35.92434131341146}, {'label': 'September', 'value': 123.6865815003339}, {'label': 'September', 'value': 13.09062114136227}]}\n"
          ]
        }
      ]
    },
    {
      "cell_type": "code",
      "source": [
        "# Calculate correlation matrix\n",
        "correlation_matrix = df[['BasePrice', 'DiscountRate', 'Profit', 'ProfitMargin']].corr()\n",
        "\n",
        "# Display the correlation matrix\n",
        "print(\"Correlation Matrix:\")\n",
        "print(correlation_matrix)\n"
      ],
      "metadata": {
        "id": "1W90CHcgjjwi",
        "colab": {
          "base_uri": "https://localhost:8080/"
        },
        "outputId": "3d61ee30-3764-4bbd-a5ae-08aa2bbf985c"
      },
      "execution_count": null,
      "outputs": [
        {
          "output_type": "stream",
          "name": "stdout",
          "text": [
            "Correlation Matrix:\n",
            "              BasePrice  DiscountRate    Profit  ProfitMargin\n",
            "BasePrice      1.000000      0.025793 -0.064634     -0.030115\n",
            "DiscountRate   0.025793      1.000000 -0.006318     -0.022352\n",
            "Profit        -0.064634     -0.006318  1.000000      0.751890\n",
            "ProfitMargin  -0.030115     -0.022352  0.751890      1.000000\n"
          ]
        }
      ]
    },
    {
      "cell_type": "code",
      "source": [
        "# Break-Even Point (in units)\n",
        "# Calculate variable costs per unit\n",
        "df['VariableCostsPerUnit'] = df['TotalVariableCosts'] / df['Quantity']\n",
        "\n",
        "# Calculate revenue per unit\n",
        "df['RevenuePerUnit'] = df['Revenue'] / df['Quantity']\n",
        "\n",
        "# Calculate break-even point in units\n",
        "break_even_point = df['TotalFixedCosts'].iloc[0] / (df['RevenuePerUnit'].iloc[0] - df['VariableCostsPerUnit'].iloc[0])\n",
        "\n",
        "print(f\"The break-even point is approximately {break_even_point:.2f} units.\")\n"
      ],
      "metadata": {
        "colab": {
          "base_uri": "https://localhost:8080/"
        },
        "id": "n1WsTQBHjtB2",
        "outputId": "7501ac92-b83f-4912-d055-43a15f2079eb"
      },
      "execution_count": null,
      "outputs": [
        {
          "output_type": "stream",
          "name": "stdout",
          "text": [
            "The break-even point is approximately 11.89 units.\n"
          ]
        }
      ]
    },
    {
      "cell_type": "markdown",
      "source": [
        "\n",
        "Break-Even Point (in price)\n"
      ],
      "metadata": {
        "id": "n0fartPhkqNW"
      }
    },
    {
      "cell_type": "code",
      "source": [
        "# Break-Even Point (in price)\n",
        "# Calculate break-even point in price\n",
        "df['BreakEvenPointPrice'] = df['BasePrice'] + (df['TotalFixedCosts'] + df['TotalVariableCosts']) / df['Quantity']\n",
        "\n",
        "# Display the first few rows of the DataFrame with the new column\n",
        "print(df[['ProductName', 'BreakEvenPointPrice']].head())"
      ],
      "metadata": {
        "colab": {
          "base_uri": "https://localhost:8080/"
        },
        "id": "hrU1pLAykM4_",
        "outputId": "7df1ede1-9a5d-4f3f-a75e-d7996a205bd1"
      },
      "execution_count": null,
      "outputs": [
        {
          "output_type": "stream",
          "name": "stdout",
          "text": [
            "  ProductName  BreakEvenPointPrice\n",
            "0  Product_77            94.736254\n",
            "1  Product_77            95.359399\n",
            "2  Product_77            99.098272\n",
            "3  Product_77           107.822308\n",
            "4  Product_77            97.353465\n"
          ]
        }
      ]
    },
    {
      "cell_type": "code",
      "source": [
        "data = {\n",
        "    'ProductName': df['ProductName'].tolist(),\n",
        "    'BreakEvenPointPrice': (df['BasePrice'] + (df['TotalFixedCosts'] + df['TotalVariableCosts']) / df['Quantity']).tolist()\n",
        "}\n",
        "\n",
        "# Display the first few rows of the dictionary\n",
        "print({key: data[key][:5] for key in data})\n"
      ],
      "metadata": {
        "colab": {
          "base_uri": "https://localhost:8080/"
        },
        "id": "qkdXnJdz59pW",
        "outputId": "2453fdc5-c74f-4079-81d0-323bfdf62bdb"
      },
      "execution_count": null,
      "outputs": [
        {
          "output_type": "stream",
          "name": "stdout",
          "text": [
            "{'ProductName': ['Product_77', 'Product_77', 'Product_77', 'Product_77', 'Product_77'], 'BreakEvenPointPrice': [94.73625386048454, 95.35939931930456, 99.0982720722247, 107.82230849570503, 97.35346478752864]}\n"
          ]
        }
      ]
    },
    {
      "cell_type": "markdown",
      "source": [
        "Break-Even Point (in revenue)"
      ],
      "metadata": {
        "id": "t2G8AE7zl-jg"
      }
    },
    {
      "cell_type": "code",
      "source": [
        "# Break-Even Point (in revenue)\n",
        "# Calculate break-even point in revenue\n",
        "df['BreakEvenPointRevenue'] = df['TotalFixedCosts'] + df['TotalVariableCosts']\n",
        "\n",
        "# Display the first few rows of the DataFrame with the new column\n",
        "print(df[['ProductID', 'BreakEvenPointRevenue']].head())\n"
      ],
      "metadata": {
        "colab": {
          "base_uri": "https://localhost:8080/"
        },
        "id": "pHQR-3qplgSJ",
        "outputId": "3b8e4381-d933-4bfd-92a4-acdfe4e6089e"
      },
      "execution_count": null,
      "outputs": [
        {
          "output_type": "stream",
          "name": "stdout",
          "text": [
            "   ProductID  BreakEvenPointRevenue\n",
            "0         77              34.896146\n",
            "1         77              34.896146\n",
            "2         77              34.896146\n",
            "3         77              34.896146\n",
            "4         77              34.896146\n"
          ]
        }
      ]
    },
    {
      "cell_type": "code",
      "source": [
        "\n",
        "data = {\n",
        "    'ProductID': df['ProductID'].tolist(),\n",
        "    'BreakEvenPointRevenue': (df['TotalFixedCosts'] + df['TotalVariableCosts']).tolist()\n",
        "}\n",
        "\n",
        "# Display the first few rows of the dictionary\n",
        "print({key: data[key][:5] for key in data})\n"
      ],
      "metadata": {
        "id": "2nHu9HcfFmBy",
        "colab": {
          "base_uri": "https://localhost:8080/"
        },
        "outputId": "c3acf491-5e92-4440-a329-aeadb0e3187c"
      },
      "execution_count": null,
      "outputs": [
        {
          "output_type": "stream",
          "name": "stdout",
          "text": [
            "{'ProductID': [77, 77, 77, 77, 77], 'BreakEvenPointRevenue': [34.89614569392131, 34.89614569392131, 34.89614569392131, 34.89614569392131, 34.89614569392131]}\n"
          ]
        }
      ]
    },
    {
      "cell_type": "code",
      "source": [],
      "metadata": {
        "id": "nM-3cgzL6-ru"
      },
      "execution_count": null,
      "outputs": []
    }
  ]
}